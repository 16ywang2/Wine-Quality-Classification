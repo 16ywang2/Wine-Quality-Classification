{
 "cells": [
  {
   "cell_type": "code",
   "execution_count": 183,
   "metadata": {},
   "outputs": [
    {
     "data": {
      "text/plain": [
       "'2.0.0'"
      ]
     },
     "execution_count": 183,
     "metadata": {},
     "output_type": "execute_result"
    }
   ],
   "source": [
    "import pandas as pd\n",
    "import matplotlib.pyplot as plt\n",
    "import numpy as np\n",
    "import seaborn as sns\n",
    "from sklearn.model_selection import train_test_split\n",
    "from sklearn.metrics import accuracy_score\n",
    "import statsmodels.api as sm\n",
    "from sklearn.ensemble import RandomForestClassifier\n",
    "from sklearn.model_selection import GridSearchCV\n",
    "import xgboost\n",
    "from xgboost import XGBClassifier\n",
    "from sklearn import svm\n",
    "import tensorflow as tf\n",
    "import keras\n",
    "from keras.layers import Input, Dense, BatchNormalization, Dropout\n",
    "from keras.models import Model\n",
    "from keras.utils import to_categorical\n",
    "from prettytable import PrettyTable\n",
    "tf.__version__\n"
   ]
  },
  {
   "cell_type": "code",
   "execution_count": 184,
   "metadata": {},
   "outputs": [],
   "source": [
    "# import data\n",
    "wine = pd.read_csv(\"wine.csv\")"
   ]
  },
  {
   "cell_type": "code",
   "execution_count": 185,
   "metadata": {},
   "outputs": [],
   "source": [
    "wine[\"y\"] = np.where(wine[\"quality\"] == \"good\", 1,0)"
   ]
  },
  {
   "cell_type": "code",
   "execution_count": 186,
   "metadata": {},
   "outputs": [],
   "source": [
    "wine.drop(\"quality\", axis = 1, inplace = True)"
   ]
  },
  {
   "cell_type": "markdown",
   "metadata": {},
   "source": [
    "### EDA"
   ]
  },
  {
   "cell_type": "code",
   "execution_count": 187,
   "metadata": {},
   "outputs": [
    {
     "data": {
      "text/plain": [
       "<matplotlib.axes._subplots.AxesSubplot at 0x7fe8f6d45410>"
      ]
     },
     "execution_count": 187,
     "metadata": {},
     "output_type": "execute_result"
    },
    {
     "data": {
      "image/png": "[encoded data removed]",
      "text/plain": [
       "<Figure size 1080x576 with 2 Axes>"
      ]
     },
     "metadata": {
      "needs_background": "light"
     },
     "output_type": "display_data"
    }
   ],
   "source": [
    "# cor plot\n",
    "cor = wine.corr()\n",
    "f, ax = plt.subplots(figsize = (15,8))\n",
    "cmap = sns.diverging_palette(220,20, as_cmap = True)\n",
    "sns.heatmap(cor, cmap = cmap)"
   ]
  },
  {
   "cell_type": "code",
   "execution_count": 188,
   "metadata": {},
   "outputs": [],
   "source": [
    "# split into train and test data\n",
    "train, test = train_test_split(wine, test_size = 0.1, random_state = 7)\n",
    "train = train.reset_index()\n",
    "test = test.reset_index()\n",
    "train.drop(\"index\", axis = 1, inplace = True)\n",
    "test.drop(\"index\", axis = 1, inplace = True)"
   ]
  },
  {
   "cell_type": "markdown",
   "metadata": {},
   "source": [
    "### Logistic Regression"
   ]
  },
  {
   "cell_type": "code",
   "execution_count": 189,
   "metadata": {},
   "outputs": [],
   "source": [
    "X_full_train = train.drop(\"y\", axis = 1)\n",
    "X_full_test = test.drop(\"y\", axis = 1)"
   ]
  },
  {
   "cell_type": "code",
   "execution_count": 190,
   "metadata": {},
   "outputs": [
    {
     "name": "stdout",
     "output_type": "stream",
     "text": [
      "Optimization terminated successfully.\n",
      "         Current function value: 0.516626\n",
      "         Iterations 6\n"
     ]
    },
    {
     "data": {
      "text/html": [
       "<table class=\"simpletable\">\n",
       "<caption>Logit Regression Results</caption>\n",
       "<tr>\n",
       "  <th>Dep. Variable:</th>           <td>y</td>        <th>  No. Observations:  </th>   <td>  1439</td>  \n",
       "</tr>\n",
       "<tr>\n",
       "  <th>Model:</th>                 <td>Logit</td>      <th>  Df Residuals:      </th>   <td>  1428</td>  \n",
       "</tr>\n",
       "<tr>\n",
       "  <th>Method:</th>                 <td>MLE</td>       <th>  Df Model:          </th>   <td>    10</td>  \n",
       "</tr>\n",
       "<tr>\n",
       "  <th>Date:</th>            <td>Sat, 10 Oct 2020</td> <th>  Pseudo R-squ.:     </th>   <td>0.2534</td>  \n",
       "</tr>\n",
       "<tr>\n",
       "  <th>Time:</th>                <td>20:52:14</td>     <th>  Log-Likelihood:    </th>  <td> -743.42</td> \n",
       "</tr>\n",
       "<tr>\n",
       "  <th>converged:</th>             <td>True</td>       <th>  LL-Null:           </th>  <td> -995.78</td> \n",
       "</tr>\n",
       "<tr>\n",
       "  <th>Covariance Type:</th>     <td>nonrobust</td>    <th>  LLR p-value:       </th> <td>4.331e-102</td>\n",
       "</tr>\n",
       "</table>\n",
       "<table class=\"simpletable\">\n",
       "<tr>\n",
       "            <td></td>              <th>coef</th>     <th>std err</th>      <th>z</th>      <th>P>|z|</th>  <th>[0.025</th>    <th>0.975]</th>  \n",
       "</tr>\n",
       "<tr>\n",
       "  <th>fixed acidity</th>        <td>    0.0925</td> <td>    0.066</td> <td>    1.402</td> <td> 0.161</td> <td>   -0.037</td> <td>    0.222</td>\n",
       "</tr>\n",
       "<tr>\n",
       "  <th>volatile acidity</th>     <td>   -3.2395</td> <td>    0.506</td> <td>   -6.406</td> <td> 0.000</td> <td>   -4.231</td> <td>   -2.248</td>\n",
       "</tr>\n",
       "<tr>\n",
       "  <th>citric acid</th>          <td>   -1.1968</td> <td>    0.587</td> <td>   -2.037</td> <td> 0.042</td> <td>   -2.348</td> <td>   -0.045</td>\n",
       "</tr>\n",
       "<tr>\n",
       "  <th>residual sugar</th>       <td>    0.0584</td> <td>    0.044</td> <td>    1.321</td> <td> 0.186</td> <td>   -0.028</td> <td>    0.145</td>\n",
       "</tr>\n",
       "<tr>\n",
       "  <th>chlorides</th>            <td>   -4.1482</td> <td>    1.622</td> <td>   -2.557</td> <td> 0.011</td> <td>   -7.328</td> <td>   -0.969</td>\n",
       "</tr>\n",
       "<tr>\n",
       "  <th>free sulfur dioxide</th>  <td>    0.0261</td> <td>    0.009</td> <td>    3.051</td> <td> 0.002</td> <td>    0.009</td> <td>    0.043</td>\n",
       "</tr>\n",
       "<tr>\n",
       "  <th>total sulfur dioxide</th> <td>   -0.0175</td> <td>    0.003</td> <td>   -5.765</td> <td> 0.000</td> <td>   -0.023</td> <td>   -0.012</td>\n",
       "</tr>\n",
       "<tr>\n",
       "  <th>density</th>              <td>   -6.4451</td> <td>    2.491</td> <td>   -2.587</td> <td> 0.010</td> <td>  -11.328</td> <td>   -1.562</td>\n",
       "</tr>\n",
       "<tr>\n",
       "  <th>pH</th>                   <td>   -0.8118</td> <td>    0.633</td> <td>   -1.283</td> <td> 0.199</td> <td>   -2.052</td> <td>    0.428</td>\n",
       "</tr>\n",
       "<tr>\n",
       "  <th>sulphates</th>            <td>    2.6796</td> <td>    0.457</td> <td>    5.864</td> <td> 0.000</td> <td>    1.784</td> <td>    3.575</td>\n",
       "</tr>\n",
       "<tr>\n",
       "  <th>alcohol</th>              <td>    0.9026</td> <td>    0.078</td> <td>   11.551</td> <td> 0.000</td> <td>    0.749</td> <td>    1.056</td>\n",
       "</tr>\n",
       "</table>"
      ],
      "text/plain": [
       "<class 'statsmodels.iolib.summary.Summary'>\n",
       "\"\"\"\n",
       "                           Logit Regression Results                           \n",
       "==============================================================================\n",
       "Dep. Variable:                      y   No. Observations:                 1439\n",
       "Model:                          Logit   Df Residuals:                     1428\n",
       "Method:                           MLE   Df Model:                           10\n",
       "Date:                Sat, 10 Oct 2020   Pseudo R-squ.:                  0.2534\n",
       "Time:                        20:52:14   Log-Likelihood:                -743.42\n",
       "converged:                       True   LL-Null:                       -995.78\n",
       "Covariance Type:            nonrobust   LLR p-value:                4.331e-102\n",
       "========================================================================================\n",
       "                           coef    std err          z      P>|z|      [0.025      0.975]\n",
       "----------------------------------------------------------------------------------------\n",
       "fixed acidity            0.0925      0.066      1.402      0.161      -0.037       0.222\n",
       "volatile acidity        -3.2395      0.506     -6.406      0.000      -4.231      -2.248\n",
       "citric acid             -1.1968      0.587     -2.037      0.042      -2.348      -0.045\n",
       "residual sugar           0.0584      0.044      1.321      0.186      -0.028       0.145\n",
       "chlorides               -4.1482      1.622     -2.557      0.011      -7.328      -0.969\n",
       "free sulfur dioxide      0.0261      0.009      3.051      0.002       0.009       0.043\n",
       "total sulfur dioxide    -0.0175      0.003     -5.765      0.000      -0.023      -0.012\n",
       "density                 -6.4451      2.491     -2.587      0.010     -11.328      -1.562\n",
       "pH                      -0.8118      0.633     -1.283      0.199      -2.052       0.428\n",
       "sulphates                2.6796      0.457      5.864      0.000       1.784       3.575\n",
       "alcohol                  0.9026      0.078     11.551      0.000       0.749       1.056\n",
       "========================================================================================\n",
       "\"\"\""
      ]
     },
     "execution_count": 190,
     "metadata": {},
     "output_type": "execute_result"
    }
   ],
   "source": [
    "model1 = sm.Logit(train[\"y\"], X_full_train).fit()\n",
    "model1.summary()"
   ]
  },
  {
   "cell_type": "code",
   "execution_count": 191,
   "metadata": {},
   "outputs": [
    {
     "name": "stdout",
     "output_type": "stream",
     "text": [
      "The accuracy on the training set is 0.749131341209173\n",
      "The accuracy on the test set is 0.73125\n"
     ]
    }
   ],
   "source": [
    "# make predictions on the train and the test sets and calculate accuracy\n",
    "yhat_train = model1.predict(X_full_train)\n",
    "yhat_test = model1.predict(X_full_test)\n",
    "prediction_train = list(map(round,yhat_train))\n",
    "prediction_test = list(map(round,yhat_test))\n",
    "predictions_train = pd.concat([train[\"y\"], pd.Series(prediction_train)], axis =1)\n",
    "predictions_test = pd.concat([test[\"y\"], pd.Series(prediction_test)], axis =1)\n",
    "predictions_train.rename(columns = {0:\"model1\"}, inplace = True)\n",
    "predictions_test.rename(columns = {0:\"model1\"}, inplace = True)\n",
    "print(f'The accuracy on the training set is {accuracy_score(predictions_train[\"y\"], predictions_train[\"model1\"])}')\n",
    "print(f'The accuracy on the test set is {accuracy_score(predictions_test[\"y\"], predictions_test[\"model1\"])}')\n"
   ]
  },
  {
   "cell_type": "code",
   "execution_count": 192,
   "metadata": {},
   "outputs": [],
   "source": [
    "# try take out ph as it correlates strongly with other predictors\n",
    "X_noph_train = X_full_train.drop(\"pH\", axis = 1)\n",
    "X_noph_test = X_full_test.drop(\"pH\", axis=1)"
   ]
  },
  {
   "cell_type": "code",
   "execution_count": 193,
   "metadata": {},
   "outputs": [
    {
     "name": "stdout",
     "output_type": "stream",
     "text": [
      "Optimization terminated successfully.\n",
      "         Current function value: 0.517198\n",
      "         Iterations 6\n"
     ]
    },
    {
     "data": {
      "text/html": [
       "<table class=\"simpletable\">\n",
       "<caption>Logit Regression Results</caption>\n",
       "<tr>\n",
       "  <th>Dep. Variable:</th>           <td>y</td>        <th>  No. Observations:  </th>   <td>  1439</td>  \n",
       "</tr>\n",
       "<tr>\n",
       "  <th>Model:</th>                 <td>Logit</td>      <th>  Df Residuals:      </th>   <td>  1429</td>  \n",
       "</tr>\n",
       "<tr>\n",
       "  <th>Method:</th>                 <td>MLE</td>       <th>  Df Model:          </th>   <td>     9</td>  \n",
       "</tr>\n",
       "<tr>\n",
       "  <th>Date:</th>            <td>Sat, 10 Oct 2020</td> <th>  Pseudo R-squ.:     </th>   <td>0.2526</td>  \n",
       "</tr>\n",
       "<tr>\n",
       "  <th>Time:</th>                <td>20:52:14</td>     <th>  Log-Likelihood:    </th>  <td> -744.25</td> \n",
       "</tr>\n",
       "<tr>\n",
       "  <th>converged:</th>             <td>True</td>       <th>  LL-Null:           </th>  <td> -995.78</td> \n",
       "</tr>\n",
       "<tr>\n",
       "  <th>Covariance Type:</th>     <td>nonrobust</td>    <th>  LLR p-value:       </th> <td>1.265e-102</td>\n",
       "</tr>\n",
       "</table>\n",
       "<table class=\"simpletable\">\n",
       "<tr>\n",
       "            <td></td>              <th>coef</th>     <th>std err</th>      <th>z</th>      <th>P>|z|</th>  <th>[0.025</th>    <th>0.975]</th>  \n",
       "</tr>\n",
       "<tr>\n",
       "  <th>fixed acidity</th>        <td>    0.1420</td> <td>    0.054</td> <td>    2.642</td> <td> 0.008</td> <td>    0.037</td> <td>    0.247</td>\n",
       "</tr>\n",
       "<tr>\n",
       "  <th>volatile acidity</th>     <td>   -3.3245</td> <td>    0.502</td> <td>   -6.622</td> <td> 0.000</td> <td>   -4.308</td> <td>   -2.340</td>\n",
       "</tr>\n",
       "<tr>\n",
       "  <th>citric acid</th>          <td>   -1.2122</td> <td>    0.587</td> <td>   -2.066</td> <td> 0.039</td> <td>   -2.362</td> <td>   -0.062</td>\n",
       "</tr>\n",
       "<tr>\n",
       "  <th>residual sugar</th>       <td>    0.0588</td> <td>    0.044</td> <td>    1.333</td> <td> 0.183</td> <td>   -0.028</td> <td>    0.145</td>\n",
       "</tr>\n",
       "<tr>\n",
       "  <th>chlorides</th>            <td>   -3.6230</td> <td>    1.564</td> <td>   -2.316</td> <td> 0.021</td> <td>   -6.689</td> <td>   -0.557</td>\n",
       "</tr>\n",
       "<tr>\n",
       "  <th>free sulfur dioxide</th>  <td>    0.0246</td> <td>    0.008</td> <td>    2.892</td> <td> 0.004</td> <td>    0.008</td> <td>    0.041</td>\n",
       "</tr>\n",
       "<tr>\n",
       "  <th>total sulfur dioxide</th> <td>   -0.0167</td> <td>    0.003</td> <td>   -5.619</td> <td> 0.000</td> <td>   -0.023</td> <td>   -0.011</td>\n",
       "</tr>\n",
       "<tr>\n",
       "  <th>density</th>              <td>   -9.3811</td> <td>    1.012</td> <td>   -9.271</td> <td> 0.000</td> <td>  -11.364</td> <td>   -7.398</td>\n",
       "</tr>\n",
       "<tr>\n",
       "  <th>sulphates</th>            <td>    2.6653</td> <td>    0.451</td> <td>    5.912</td> <td> 0.000</td> <td>    1.782</td> <td>    3.549</td>\n",
       "</tr>\n",
       "<tr>\n",
       "  <th>alcohol</th>              <td>    0.8856</td> <td>    0.077</td> <td>   11.534</td> <td> 0.000</td> <td>    0.735</td> <td>    1.036</td>\n",
       "</tr>\n",
       "</table>"
      ],
      "text/plain": [
       "<class 'statsmodels.iolib.summary.Summary'>\n",
       "\"\"\"\n",
       "                           Logit Regression Results                           \n",
       "==============================================================================\n",
       "Dep. Variable:                      y   No. Observations:                 1439\n",
       "Model:                          Logit   Df Residuals:                     1429\n",
       "Method:                           MLE   Df Model:                            9\n",
       "Date:                Sat, 10 Oct 2020   Pseudo R-squ.:                  0.2526\n",
       "Time:                        20:52:14   Log-Likelihood:                -744.25\n",
       "converged:                       True   LL-Null:                       -995.78\n",
       "Covariance Type:            nonrobust   LLR p-value:                1.265e-102\n",
       "========================================================================================\n",
       "                           coef    std err          z      P>|z|      [0.025      0.975]\n",
       "----------------------------------------------------------------------------------------\n",
       "fixed acidity            0.1420      0.054      2.642      0.008       0.037       0.247\n",
       "volatile acidity        -3.3245      0.502     -6.622      0.000      -4.308      -2.340\n",
       "citric acid             -1.2122      0.587     -2.066      0.039      -2.362      -0.062\n",
       "residual sugar           0.0588      0.044      1.333      0.183      -0.028       0.145\n",
       "chlorides               -3.6230      1.564     -2.316      0.021      -6.689      -0.557\n",
       "free sulfur dioxide      0.0246      0.008      2.892      0.004       0.008       0.041\n",
       "total sulfur dioxide    -0.0167      0.003     -5.619      0.000      -0.023      -0.011\n",
       "density                 -9.3811      1.012     -9.271      0.000     -11.364      -7.398\n",
       "sulphates                2.6653      0.451      5.912      0.000       1.782       3.549\n",
       "alcohol                  0.8856      0.077     11.534      0.000       0.735       1.036\n",
       "========================================================================================\n",
       "\"\"\""
      ]
     },
     "execution_count": 193,
     "metadata": {},
     "output_type": "execute_result"
    }
   ],
   "source": [
    "# fit and predict\n",
    "model2 = sm.Logit(train[\"y\"], X_noph_train).fit()\n",
    "model2.summary()"
   ]
  },
  {
   "cell_type": "code",
   "execution_count": 194,
   "metadata": {},
   "outputs": [
    {
     "name": "stdout",
     "output_type": "stream",
     "text": [
      "The accuracy on the training set is 0.7498262682418346\n",
      "The accuracy on the test set is 0.73125\n"
     ]
    }
   ],
   "source": [
    "# make predictions on the train and the test sets and calculate accuracy\n",
    "yhat_train = model2.predict(X_noph_train)\n",
    "yhat_test = model2.predict(X_noph_test)\n",
    "prediction_train = list(map(round,yhat_train))\n",
    "prediction_test = list(map(round,yhat_test))\n",
    "predictions_train = pd.concat([predictions_train, pd.Series(prediction_train)], axis =1)\n",
    "predictions_test = pd.concat([predictions_test, pd.Series(prediction_test)], axis =1)\n",
    "predictions_train.rename(columns = {0:\"model2\"}, inplace = True)\n",
    "predictions_test.rename(columns = {0:\"model2\"}, inplace = True)\n",
    "print(f'The accuracy on the training set is {accuracy_score(predictions_train[\"y\"], predictions_train[\"model2\"])}')\n",
    "print(f'The accuracy on the test set is {accuracy_score(predictions_test[\"y\"], predictions_test[\"model2\"])}')"
   ]
  },
  {
   "cell_type": "markdown",
   "metadata": {},
   "source": [
    "The baseline accuracy from logistic regression is 73%."
   ]
  },
  {
   "cell_type": "markdown",
   "metadata": {},
   "source": [
    "### Random Forest"
   ]
  },
  {
   "cell_type": "code",
   "execution_count": 195,
   "metadata": {},
   "outputs": [
    {
     "data": {
      "text/plain": [
       "RandomForestClassifier(bootstrap=True, ccp_alpha=0.0, class_weight=None,\n",
       "                       criterion='gini', max_depth=None, max_features='auto',\n",
       "                       max_leaf_nodes=None, max_samples=None,\n",
       "                       min_impurity_decrease=0.0, min_impurity_split=None,\n",
       "                       min_samples_leaf=1, min_samples_split=2,\n",
       "                       min_weight_fraction_leaf=0.0, n_estimators=2000,\n",
       "                       n_jobs=None, oob_score=False, random_state=None,\n",
       "                       verbose=0, warm_start=False)"
      ]
     },
     "execution_count": 195,
     "metadata": {},
     "output_type": "execute_result"
    }
   ],
   "source": [
    "# fit a normal random forests with 2000 trees\n",
    "model3 = RandomForestClassifier(n_estimators = 2000)\n",
    "model3.fit(X_full_train, train[\"y\"])"
   ]
  },
  {
   "cell_type": "code",
   "execution_count": 196,
   "metadata": {},
   "outputs": [
    {
     "data": {
      "image/png": "[encoded data removed]",
      "text/plain": [
       "<Figure size 720x576 with 1 Axes>"
      ]
     },
     "metadata": {
      "needs_background": "light"
     },
     "output_type": "display_data"
    }
   ],
   "source": [
    "# plot feature importance\n",
    "feature_importance = pd.concat([pd.Series(X_full_train.columns), pd.Series(model3.feature_importances_)], axis = 1).sort_values(by = 1)\n",
    "f, ax = plt.subplots(figsize = (10,8))\n",
    "ax.barh(feature_importance[0], feature_importance[1])\n",
    "ax.set_title(\"Feature Importance Plot\")\n",
    "plt.show()\n"
   ]
  },
  {
   "cell_type": "code",
   "execution_count": 197,
   "metadata": {},
   "outputs": [
    {
     "name": "stdout",
     "output_type": "stream",
     "text": [
      "The accuracy on the training set is 1.0\n",
      "The accuracy on the test set is 0.83125\n"
     ]
    }
   ],
   "source": [
    "# make predictions on the train and the test sets and calculate accuracy\n",
    "yhat_train = model3.predict(X_full_train)\n",
    "yhat_test = model3.predict(X_full_test)\n",
    "predictions_train = pd.concat([predictions_train, pd.Series(yhat_train)], axis =1)\n",
    "predictions_test = pd.concat([predictions_test, pd.Series(yhat_test)], axis =1)\n",
    "predictions_train.rename(columns = {0:\"model3\"}, inplace = True)\n",
    "predictions_test.rename(columns = {0:\"model3\"}, inplace = True)\n",
    "print(f'The accuracy on the training set is {accuracy_score(predictions_train[\"y\"], predictions_train[\"model3\"])}')\n",
    "print(f'The accuracy on the test set is {accuracy_score(predictions_test[\"y\"], predictions_test[\"model3\"])}')"
   ]
  },
  {
   "cell_type": "markdown",
   "metadata": {},
   "source": [
    "Let's try using GridCV to optimize our parameters."
   ]
  },
  {
   "cell_type": "code",
   "execution_count": 198,
   "metadata": {},
   "outputs": [],
   "source": [
    "# use GridSearch to find the best sets of parameters\n",
    "parameters = {\"max_features\": [\"sqrt\", 5, 7, 9], \"min_samples_leaf\": [1, 2, 4, 6]}\n",
    "gridsearch = GridSearchCV(RandomForestClassifier(n_estimators = 500), parameters, scoring = \"accuracy\")\n",
    "grid_result = gridsearch.fit(X_full_train, train[\"y\"])\n",
    "\n"
   ]
  },
  {
   "cell_type": "code",
   "execution_count": 199,
   "metadata": {},
   "outputs": [
    {
     "name": "stdout",
     "output_type": "stream",
     "text": [
      "The best score is 0.8283512388695315 with {'max_features': 5, 'min_samples_leaf': 2}\n"
     ]
    }
   ],
   "source": [
    "print(f\"The best score is {grid_result.best_score_} with {grid_result.best_params_}\")"
   ]
  },
  {
   "cell_type": "markdown",
   "metadata": {},
   "source": [
    "Seems like the best model is the default one, and the test accuracy is around 85%."
   ]
  },
  {
   "cell_type": "markdown",
   "metadata": {},
   "source": [
    "### Gradient Boosted Trees"
   ]
  },
  {
   "cell_type": "code",
   "execution_count": 200,
   "metadata": {},
   "outputs": [
    {
     "data": {
      "text/plain": [
       "XGBClassifier(base_score=0.5, booster='gbtree', colsample_bylevel=1,\n",
       "              colsample_bynode=1, colsample_bytree=1, gamma=0,\n",
       "              learning_rate=0.1, max_delta_step=0, max_depth=5,\n",
       "              min_child_weight=1, missing=None, n_estimators=2000, n_jobs=1,\n",
       "              nthread=None, objective='binary:logistic', random_state=0,\n",
       "              reg_alpha=0.5, reg_lambda=1, scale_pos_weight=1, seed=None,\n",
       "              silent=None, subsample=1, verbosity=1)"
      ]
     },
     "execution_count": 200,
     "metadata": {},
     "output_type": "execute_result"
    }
   ],
   "source": [
    "model4 = XGBClassifier(n_estimators = 2000, max_depth = 5, reg_alpha = 0.5)\n",
    "model4.fit(X_full_train, train[\"y\"])"
   ]
  },
  {
   "cell_type": "code",
   "execution_count": 201,
   "metadata": {},
   "outputs": [
    {
     "name": "stdout",
     "output_type": "stream",
     "text": [
      "The accuracy on the training set is 1.0\n",
      "The accuracy on the test set is 0.8\n"
     ]
    }
   ],
   "source": [
    "# make predictions on the train and the test sets and calculate accuracy\n",
    "yhat_train = model4.predict(X_full_train)\n",
    "yhat_test = model4.predict(X_full_test)\n",
    "predictions_train = pd.concat([predictions_train, pd.Series(yhat_train)], axis =1)\n",
    "predictions_test = pd.concat([predictions_test, pd.Series(yhat_test)], axis =1)\n",
    "predictions_train.rename(columns = {0:\"model4\"}, inplace = True)\n",
    "predictions_test.rename(columns = {0:\"model4\"}, inplace = True)\n",
    "print(f'The accuracy on the training set is {accuracy_score(predictions_train[\"y\"], predictions_train[\"model4\"])}')\n",
    "print(f'The accuracy on the test set is {accuracy_score(predictions_test[\"y\"], predictions_test[\"model4\"])}')"
   ]
  },
  {
   "cell_type": "markdown",
   "metadata": {},
   "source": [
    "After tuning the parameters and trying out different values, the best model is with max_depth of 5 and L1 regularization with alpha = 0.5. The accuracy on test set is 80%."
   ]
  },
  {
   "cell_type": "markdown",
   "metadata": {},
   "source": [
    "### SVM"
   ]
  },
  {
   "cell_type": "code",
   "execution_count": 202,
   "metadata": {},
   "outputs": [
    {
     "name": "stdout",
     "output_type": "stream",
     "text": [
      "The best score is 0.7435782036391793 with {'C': 0.5, 'kernel': 'linear'}\n"
     ]
    }
   ],
   "source": [
    "# try linear and gaussian kernel with different C\n",
    "parameters = {\"kernel\": [\"linear\", \"rbf\"], \"C\": [0.1, 0.5, 1, 2, 4, 6, 8, 10,12]}\n",
    "gridsearch = GridSearchCV(svm.SVC(), parameters, scoring = \"accuracy\")\n",
    "grid_result = gridsearch.fit(X_full_train, train[\"y\"])\n",
    "print(f\"The best score is {grid_result.best_score_} with {grid_result.best_params_}\")\n"
   ]
  },
  {
   "cell_type": "code",
   "execution_count": 203,
   "metadata": {
    "scrolled": true
   },
   "outputs": [
    {
     "name": "stdout",
     "output_type": "stream",
     "text": [
      "The accuracy on the training set is 0.7484364141765114\n",
      "The accuracy on the test set is 0.725\n"
     ]
    }
   ],
   "source": [
    "# fit and predict\n",
    "model5 = svm.SVC(kernel = \"linear\", C = 0.5)\n",
    "model5.fit(X_full_train, train[\"y\"])\n",
    "yhat_train = model5.predict(X_full_train)\n",
    "yhat_test = model5.predict(X_full_test)\n",
    "predictions_train = pd.concat([predictions_train, pd.Series(yhat_train)], axis =1)\n",
    "predictions_test = pd.concat([predictions_test, pd.Series(yhat_test)], axis =1)\n",
    "predictions_train.rename(columns = {0:\"model5\"}, inplace = True)\n",
    "predictions_test.rename(columns = {0:\"model5\"}, inplace = True)\n",
    "print(f'The accuracy on the training set is {accuracy_score(predictions_train[\"y\"], yhat_train)}')\n",
    "print(f'The accuracy on the test set is {accuracy_score(predictions_test[\"y\"], yhat_test)}')"
   ]
  },
  {
   "cell_type": "markdown",
   "metadata": {},
   "source": [
    "The linear kernel somehow performs better than the gaussian kernel, but it's worse than our baseline."
   ]
  },
  {
   "cell_type": "markdown",
   "metadata": {},
   "source": [
    "### Neural Network"
   ]
  },
  {
   "cell_type": "code",
   "execution_count": 204,
   "metadata": {},
   "outputs": [],
   "source": [
    "def model(input_shape):\n",
    "    x_input = Input(input_shape)\n",
    "    X = Dense(16, activation = \"relu\")(x_input)\n",
    "    X = BatchNormalization()(X)\n",
    "    X = Dense(32, activation = \"relu\")(X)\n",
    "    X = BatchNormalization()(X)\n",
    "    X = Dropout(rate = 0.1)(X)\n",
    "    X = Dense(128, activation = \"relu\")(X)\n",
    "    X = BatchNormalization()(X)\n",
    "    X = Dropout(rate = 0.1)(X)\n",
    "    X = Dense(2, activation = \"sigmoid\")(X)\n",
    "    model = Model(inputs = x_input, outputs = X)\n",
    "    \n",
    "    return model\n",
    "    \n",
    "    \n",
    "    "
   ]
  },
  {
   "cell_type": "code",
   "execution_count": 205,
   "metadata": {},
   "outputs": [],
   "source": [
    "# convert X,y to numpy arrays\n",
    "X_train_nn = X_full_train.to_numpy(dtype = \"float32\")\n",
    "X_test_nn = X_full_test.to_numpy(dtype = \"float32\")\n",
    "y_train_nn = train[\"y\"].to_numpy(dtype = \"float32\")\n",
    "y_test_nn = test[\"y\"].to_numpy(dtype = \"float32\")\n",
    "\n",
    "# change y to one-hot vectors\n",
    "y_train_nn_onehot = to_categorical(y_train_nn, 2)\n",
    "y_test_nn_onehot = to_categorical(y_test_nn, 2)\n"
   ]
  },
  {
   "cell_type": "code",
   "execution_count": 206,
   "metadata": {},
   "outputs": [],
   "source": [
    "# initialize and compile\n",
    "model6 = model(X_train_nn.shape[1:])\n",
    "optimizer = tf.keras.optimizers.Adam(0.001)\n",
    "model6.compile(optimizer = optimizer, loss = \"binary_crossentropy\", metrics= [\"accuracy\"])"
   ]
  },
  {
   "cell_type": "code",
   "execution_count": 207,
   "metadata": {
    "scrolled": true
   },
   "outputs": [
    {
     "name": "stdout",
     "output_type": "stream",
     "text": [
      "Train on 1439 samples, validate on 160 samples\n",
      "Epoch 1/300\n",
      "1439/1439 [==============================] - 1s 653us/step - loss: 0.7433 - accuracy: 0.5771 - val_loss: 0.7415 - val_accuracy: 0.4313\n",
      "Epoch 2/300\n",
      "1439/1439 [==============================] - 0s 80us/step - loss: 0.6473 - accuracy: 0.6557 - val_loss: 0.6696 - val_accuracy: 0.6281\n",
      "Epoch 3/300\n",
      "1439/1439 [==============================] - 0s 88us/step - loss: 0.6134 - accuracy: 0.6831 - val_loss: 0.6493 - val_accuracy: 0.6656\n",
      "Epoch 4/300\n",
      "1439/1439 [==============================] - 0s 58us/step - loss: 0.6236 - accuracy: 0.6574 - val_loss: 0.6331 - val_accuracy: 0.6812\n",
      "Epoch 5/300\n",
      "1439/1439 [==============================] - 0s 66us/step - loss: 0.6105 - accuracy: 0.6734 - val_loss: 0.6234 - val_accuracy: 0.6875\n",
      "Epoch 6/300\n",
      "1439/1439 [==============================] - 0s 51us/step - loss: 0.5873 - accuracy: 0.6942 - val_loss: 0.6127 - val_accuracy: 0.6844\n",
      "Epoch 7/300\n",
      "1439/1439 [==============================] - 0s 74us/step - loss: 0.5815 - accuracy: 0.6932 - val_loss: 0.6101 - val_accuracy: 0.6750\n",
      "Epoch 8/300\n",
      "1439/1439 [==============================] - 0s 64us/step - loss: 0.5749 - accuracy: 0.7060 - val_loss: 0.6006 - val_accuracy: 0.6656\n",
      "Epoch 9/300\n",
      "1439/1439 [==============================] - 0s 72us/step - loss: 0.5773 - accuracy: 0.7015 - val_loss: 0.5961 - val_accuracy: 0.6531\n",
      "Epoch 10/300\n",
      "1439/1439 [==============================] - 0s 53us/step - loss: 0.5752 - accuracy: 0.7019 - val_loss: 0.5874 - val_accuracy: 0.6656\n",
      "Epoch 11/300\n",
      "1439/1439 [==============================] - 0s 60us/step - loss: 0.5686 - accuracy: 0.7015 - val_loss: 0.5755 - val_accuracy: 0.6687\n",
      "Epoch 12/300\n",
      "1439/1439 [==============================] - 0s 48us/step - loss: 0.5647 - accuracy: 0.7054 - val_loss: 0.5679 - val_accuracy: 0.6562\n",
      "Epoch 13/300\n",
      "1439/1439 [==============================] - 0s 51us/step - loss: 0.5569 - accuracy: 0.7199 - val_loss: 0.5585 - val_accuracy: 0.6812\n",
      "Epoch 14/300\n",
      "1439/1439 [==============================] - 0s 54us/step - loss: 0.5538 - accuracy: 0.7186 - val_loss: 0.5506 - val_accuracy: 0.6906\n",
      "Epoch 15/300\n",
      "1439/1439 [==============================] - 0s 43us/step - loss: 0.5382 - accuracy: 0.7248 - val_loss: 0.5448 - val_accuracy: 0.6687\n",
      "Epoch 16/300\n",
      "1439/1439 [==============================] - 0s 49us/step - loss: 0.5477 - accuracy: 0.7199 - val_loss: 0.5364 - val_accuracy: 0.7000\n",
      "Epoch 17/300\n",
      "1439/1439 [==============================] - 0s 45us/step - loss: 0.5444 - accuracy: 0.7144 - val_loss: 0.5257 - val_accuracy: 0.7000\n",
      "Epoch 18/300\n",
      "1439/1439 [==============================] - 0s 44us/step - loss: 0.5383 - accuracy: 0.7186 - val_loss: 0.5274 - val_accuracy: 0.7094\n",
      "Epoch 19/300\n",
      "1439/1439 [==============================] - 0s 39us/step - loss: 0.5497 - accuracy: 0.7231 - val_loss: 0.5141 - val_accuracy: 0.7219\n",
      "Epoch 20/300\n",
      "1439/1439 [==============================] - 0s 47us/step - loss: 0.5290 - accuracy: 0.7349 - val_loss: 0.5329 - val_accuracy: 0.7125\n",
      "Epoch 21/300\n",
      "1439/1439 [==============================] - 0s 45us/step - loss: 0.5480 - accuracy: 0.7144 - val_loss: 0.5234 - val_accuracy: 0.7219\n",
      "Epoch 22/300\n",
      "1439/1439 [==============================] - 0s 43us/step - loss: 0.5423 - accuracy: 0.7269 - val_loss: 0.5134 - val_accuracy: 0.7250\n",
      "Epoch 23/300\n",
      "1439/1439 [==============================] - 0s 55us/step - loss: 0.5423 - accuracy: 0.7234 - val_loss: 0.5174 - val_accuracy: 0.7281\n",
      "Epoch 24/300\n",
      "1439/1439 [==============================] - 0s 51us/step - loss: 0.5330 - accuracy: 0.7359 - val_loss: 0.5018 - val_accuracy: 0.7156\n",
      "Epoch 25/300\n",
      "1439/1439 [==============================] - 0s 51us/step - loss: 0.5215 - accuracy: 0.7338 - val_loss: 0.5208 - val_accuracy: 0.7188\n",
      "Epoch 26/300\n",
      "1439/1439 [==============================] - 0s 52us/step - loss: 0.5376 - accuracy: 0.7269 - val_loss: 0.5191 - val_accuracy: 0.7156\n",
      "Epoch 27/300\n",
      "1439/1439 [==============================] - 0s 50us/step - loss: 0.5455 - accuracy: 0.7293 - val_loss: 0.5146 - val_accuracy: 0.7250\n",
      "Epoch 28/300\n",
      "1439/1439 [==============================] - 0s 49us/step - loss: 0.5362 - accuracy: 0.7227 - val_loss: 0.5279 - val_accuracy: 0.7125\n",
      "Epoch 29/300\n",
      "1439/1439 [==============================] - 0s 49us/step - loss: 0.5265 - accuracy: 0.7182 - val_loss: 0.5177 - val_accuracy: 0.7344\n",
      "Epoch 30/300\n",
      "1439/1439 [==============================] - 0s 51us/step - loss: 0.5288 - accuracy: 0.7328 - val_loss: 0.5025 - val_accuracy: 0.7250\n",
      "Epoch 31/300\n",
      "1439/1439 [==============================] - 0s 52us/step - loss: 0.5340 - accuracy: 0.7345 - val_loss: 0.5115 - val_accuracy: 0.7375\n",
      "Epoch 32/300\n",
      "1439/1439 [==============================] - 0s 50us/step - loss: 0.5262 - accuracy: 0.7338 - val_loss: 0.5602 - val_accuracy: 0.6844\n",
      "Epoch 33/300\n",
      "1439/1439 [==============================] - 0s 48us/step - loss: 0.5316 - accuracy: 0.7349 - val_loss: 0.5170 - val_accuracy: 0.7344\n",
      "Epoch 34/300\n",
      "1439/1439 [==============================] - 0s 50us/step - loss: 0.5340 - accuracy: 0.7304 - val_loss: 0.5171 - val_accuracy: 0.7375\n",
      "Epoch 35/300\n",
      "1439/1439 [==============================] - 0s 51us/step - loss: 0.5347 - accuracy: 0.7394 - val_loss: 0.5162 - val_accuracy: 0.7406\n",
      "Epoch 36/300\n",
      "1439/1439 [==============================] - 0s 49us/step - loss: 0.5338 - accuracy: 0.7373 - val_loss: 0.5212 - val_accuracy: 0.7219\n",
      "Epoch 37/300\n",
      "1439/1439 [==============================] - 0s 50us/step - loss: 0.5088 - accuracy: 0.7550 - val_loss: 0.5232 - val_accuracy: 0.7250\n",
      "Epoch 38/300\n",
      "1439/1439 [==============================] - 0s 49us/step - loss: 0.5264 - accuracy: 0.7429 - val_loss: 0.5260 - val_accuracy: 0.7250\n",
      "Epoch 39/300\n",
      "1439/1439 [==============================] - 0s 51us/step - loss: 0.5210 - accuracy: 0.7391 - val_loss: 0.5242 - val_accuracy: 0.7219\n",
      "Epoch 40/300\n",
      "1439/1439 [==============================] - 0s 53us/step - loss: 0.5159 - accuracy: 0.7467 - val_loss: 0.5568 - val_accuracy: 0.6906\n",
      "Epoch 41/300\n",
      "1439/1439 [==============================] - 0s 48us/step - loss: 0.5247 - accuracy: 0.7352 - val_loss: 0.5088 - val_accuracy: 0.7344\n",
      "Epoch 42/300\n",
      "1439/1439 [==============================] - 0s 52us/step - loss: 0.5144 - accuracy: 0.7491 - val_loss: 0.5413 - val_accuracy: 0.6875\n",
      "Epoch 43/300\n",
      "1439/1439 [==============================] - 0s 58us/step - loss: 0.5160 - accuracy: 0.7384 - val_loss: 0.5328 - val_accuracy: 0.7125\n",
      "Epoch 44/300\n",
      "1439/1439 [==============================] - 0s 44us/step - loss: 0.5232 - accuracy: 0.7443 - val_loss: 0.5564 - val_accuracy: 0.7000\n",
      "Epoch 45/300\n",
      "1439/1439 [==============================] - 0s 45us/step - loss: 0.5214 - accuracy: 0.7425 - val_loss: 0.5110 - val_accuracy: 0.7469\n",
      "Epoch 46/300\n",
      "1439/1439 [==============================] - 0s 49us/step - loss: 0.5183 - accuracy: 0.7516 - val_loss: 0.5032 - val_accuracy: 0.7375\n",
      "Epoch 47/300\n",
      "1439/1439 [==============================] - 0s 51us/step - loss: 0.5080 - accuracy: 0.7495 - val_loss: 0.4980 - val_accuracy: 0.7625\n",
      "Epoch 48/300\n",
      "1439/1439 [==============================] - 0s 51us/step - loss: 0.5102 - accuracy: 0.7491 - val_loss: 0.4911 - val_accuracy: 0.7531\n",
      "Epoch 49/300\n",
      "1439/1439 [==============================] - 0s 51us/step - loss: 0.5270 - accuracy: 0.7464 - val_loss: 0.5086 - val_accuracy: 0.7344\n",
      "Epoch 50/300\n",
      "1439/1439 [==============================] - 0s 55us/step - loss: 0.5255 - accuracy: 0.7380 - val_loss: 0.5069 - val_accuracy: 0.7469\n",
      "Epoch 51/300\n",
      "1439/1439 [==============================] - 0s 51us/step - loss: 0.5115 - accuracy: 0.7502 - val_loss: 0.5118 - val_accuracy: 0.7375\n",
      "Epoch 52/300\n",
      "1439/1439 [==============================] - 0s 51us/step - loss: 0.5016 - accuracy: 0.7498 - val_loss: 0.5088 - val_accuracy: 0.7375\n",
      "Epoch 53/300\n",
      "1439/1439 [==============================] - 0s 53us/step - loss: 0.5116 - accuracy: 0.7404 - val_loss: 0.5255 - val_accuracy: 0.7312\n",
      "Epoch 54/300\n",
      "1439/1439 [==============================] - 0s 52us/step - loss: 0.5117 - accuracy: 0.7516 - val_loss: 0.5103 - val_accuracy: 0.7344\n",
      "Epoch 55/300\n",
      "1439/1439 [==============================] - 0s 54us/step - loss: 0.5078 - accuracy: 0.7530 - val_loss: 0.5685 - val_accuracy: 0.6938\n",
      "Epoch 56/300\n"
     ]
    },
    {
     "name": "stdout",
     "output_type": "stream",
     "text": [
      "1439/1439 [==============================] - 0s 51us/step - loss: 0.5103 - accuracy: 0.7439 - val_loss: 0.6048 - val_accuracy: 0.6594\n",
      "Epoch 57/300\n",
      "1439/1439 [==============================] - 0s 54us/step - loss: 0.5110 - accuracy: 0.7484 - val_loss: 0.5307 - val_accuracy: 0.7188\n",
      "Epoch 58/300\n",
      "1439/1439 [==============================] - 0s 50us/step - loss: 0.5136 - accuracy: 0.7397 - val_loss: 0.5645 - val_accuracy: 0.6938\n",
      "Epoch 59/300\n",
      "1439/1439 [==============================] - 0s 48us/step - loss: 0.5217 - accuracy: 0.7470 - val_loss: 0.5284 - val_accuracy: 0.7219\n",
      "Epoch 60/300\n",
      "1439/1439 [==============================] - 0s 48us/step - loss: 0.5193 - accuracy: 0.7460 - val_loss: 0.5109 - val_accuracy: 0.7344\n",
      "Epoch 61/300\n",
      "1439/1439 [==============================] - 0s 55us/step - loss: 0.5136 - accuracy: 0.7460 - val_loss: 0.4954 - val_accuracy: 0.7531\n",
      "Epoch 62/300\n",
      "1439/1439 [==============================] - 0s 51us/step - loss: 0.5124 - accuracy: 0.7443 - val_loss: 0.4877 - val_accuracy: 0.7625\n",
      "Epoch 63/300\n",
      "1439/1439 [==============================] - 0s 48us/step - loss: 0.5102 - accuracy: 0.7526 - val_loss: 0.4979 - val_accuracy: 0.7437\n",
      "Epoch 64/300\n",
      "1439/1439 [==============================] - 0s 47us/step - loss: 0.5111 - accuracy: 0.7443 - val_loss: 0.4960 - val_accuracy: 0.7312\n",
      "Epoch 65/300\n",
      "1439/1439 [==============================] - 0s 48us/step - loss: 0.4979 - accuracy: 0.7582 - val_loss: 0.5355 - val_accuracy: 0.7063\n",
      "Epoch 66/300\n",
      "1439/1439 [==============================] - 0s 50us/step - loss: 0.5134 - accuracy: 0.7453 - val_loss: 0.4999 - val_accuracy: 0.7625\n",
      "Epoch 67/300\n",
      "1439/1439 [==============================] - 0s 51us/step - loss: 0.5090 - accuracy: 0.7460 - val_loss: 0.5157 - val_accuracy: 0.7375\n",
      "Epoch 68/300\n",
      "1439/1439 [==============================] - 0s 53us/step - loss: 0.5117 - accuracy: 0.7474 - val_loss: 0.5205 - val_accuracy: 0.7188\n",
      "Epoch 69/300\n",
      "1439/1439 [==============================] - 0s 52us/step - loss: 0.5102 - accuracy: 0.7557 - val_loss: 0.5177 - val_accuracy: 0.7469\n",
      "Epoch 70/300\n",
      "1439/1439 [==============================] - 0s 52us/step - loss: 0.5016 - accuracy: 0.7578 - val_loss: 0.5112 - val_accuracy: 0.7312\n",
      "Epoch 71/300\n",
      "1439/1439 [==============================] - 0s 52us/step - loss: 0.5113 - accuracy: 0.7467 - val_loss: 0.5386 - val_accuracy: 0.7156\n",
      "Epoch 72/300\n",
      "1439/1439 [==============================] - 0s 51us/step - loss: 0.5018 - accuracy: 0.7582 - val_loss: 0.4942 - val_accuracy: 0.7469\n",
      "Epoch 73/300\n",
      "1439/1439 [==============================] - 0s 52us/step - loss: 0.4989 - accuracy: 0.7627 - val_loss: 0.5133 - val_accuracy: 0.7344\n",
      "Epoch 74/300\n",
      "1439/1439 [==============================] - 0s 50us/step - loss: 0.4981 - accuracy: 0.7613 - val_loss: 0.5241 - val_accuracy: 0.7375\n",
      "Epoch 75/300\n",
      "1439/1439 [==============================] - 0s 54us/step - loss: 0.5027 - accuracy: 0.7564 - val_loss: 0.5180 - val_accuracy: 0.7375\n",
      "Epoch 76/300\n",
      "1439/1439 [==============================] - 0s 44us/step - loss: 0.4986 - accuracy: 0.7533 - val_loss: 0.5323 - val_accuracy: 0.7188\n",
      "Epoch 77/300\n",
      "1439/1439 [==============================] - 0s 66us/step - loss: 0.4988 - accuracy: 0.7543 - val_loss: 0.4941 - val_accuracy: 0.7437\n",
      "Epoch 78/300\n",
      "1439/1439 [==============================] - 0s 55us/step - loss: 0.4948 - accuracy: 0.7561 - val_loss: 0.5303 - val_accuracy: 0.7250\n",
      "Epoch 79/300\n",
      "1439/1439 [==============================] - 0s 66us/step - loss: 0.5027 - accuracy: 0.7533 - val_loss: 0.5043 - val_accuracy: 0.7250\n",
      "Epoch 80/300\n",
      "1439/1439 [==============================] - 0s 50us/step - loss: 0.5124 - accuracy: 0.7498 - val_loss: 0.5094 - val_accuracy: 0.7375\n",
      "Epoch 81/300\n",
      "1439/1439 [==============================] - 0s 56us/step - loss: 0.4927 - accuracy: 0.7516 - val_loss: 0.5359 - val_accuracy: 0.7094\n",
      "Epoch 82/300\n",
      "1439/1439 [==============================] - 0s 75us/step - loss: 0.5046 - accuracy: 0.7526 - val_loss: 0.5504 - val_accuracy: 0.6812\n",
      "Epoch 83/300\n",
      "1439/1439 [==============================] - 0s 99us/step - loss: 0.5065 - accuracy: 0.7502 - val_loss: 0.5490 - val_accuracy: 0.7031\n",
      "Epoch 84/300\n",
      "1439/1439 [==============================] - 0s 264us/step - loss: 0.4957 - accuracy: 0.7505 - val_loss: 0.5093 - val_accuracy: 0.7375\n",
      "Epoch 85/300\n",
      "1439/1439 [==============================] - 0s 74us/step - loss: 0.5166 - accuracy: 0.7477 - val_loss: 0.5152 - val_accuracy: 0.7406\n",
      "Epoch 86/300\n",
      "1439/1439 [==============================] - 0s 72us/step - loss: 0.4964 - accuracy: 0.7536 - val_loss: 0.5402 - val_accuracy: 0.7188\n",
      "Epoch 87/300\n",
      "1439/1439 [==============================] - 0s 67us/step - loss: 0.4900 - accuracy: 0.7599 - val_loss: 0.4953 - val_accuracy: 0.7344\n",
      "Epoch 88/300\n",
      "1439/1439 [==============================] - 0s 70us/step - loss: 0.4958 - accuracy: 0.7634 - val_loss: 0.5183 - val_accuracy: 0.7500\n",
      "Epoch 89/300\n",
      "1439/1439 [==============================] - 0s 66us/step - loss: 0.5091 - accuracy: 0.7585 - val_loss: 0.5184 - val_accuracy: 0.7437\n",
      "Epoch 90/300\n",
      "1439/1439 [==============================] - 0s 57us/step - loss: 0.4935 - accuracy: 0.7641 - val_loss: 0.5054 - val_accuracy: 0.7375\n",
      "Epoch 91/300\n",
      "1439/1439 [==============================] - 0s 97us/step - loss: 0.4848 - accuracy: 0.7686 - val_loss: 0.5260 - val_accuracy: 0.7344\n",
      "Epoch 92/300\n",
      "1439/1439 [==============================] - 0s 61us/step - loss: 0.4917 - accuracy: 0.7564 - val_loss: 0.5219 - val_accuracy: 0.7344\n",
      "Epoch 93/300\n",
      "1439/1439 [==============================] - 0s 59us/step - loss: 0.4998 - accuracy: 0.7547 - val_loss: 0.5253 - val_accuracy: 0.7156\n",
      "Epoch 94/300\n",
      "1439/1439 [==============================] - 0s 69us/step - loss: 0.5053 - accuracy: 0.7585 - val_loss: 0.5017 - val_accuracy: 0.7531\n",
      "Epoch 95/300\n",
      "1439/1439 [==============================] - 0s 70us/step - loss: 0.4944 - accuracy: 0.7623 - val_loss: 0.5028 - val_accuracy: 0.7469\n",
      "Epoch 96/300\n",
      "1439/1439 [==============================] - 0s 60us/step - loss: 0.4784 - accuracy: 0.7689 - val_loss: 0.5305 - val_accuracy: 0.7156\n",
      "Epoch 97/300\n",
      "1439/1439 [==============================] - 0s 62us/step - loss: 0.4907 - accuracy: 0.7675 - val_loss: 0.5363 - val_accuracy: 0.7219\n",
      "Epoch 98/300\n",
      "1439/1439 [==============================] - 0s 68us/step - loss: 0.4964 - accuracy: 0.7547 - val_loss: 0.5373 - val_accuracy: 0.7250\n",
      "Epoch 99/300\n",
      "1439/1439 [==============================] - 0s 55us/step - loss: 0.4962 - accuracy: 0.7578 - val_loss: 0.5036 - val_accuracy: 0.7500\n",
      "Epoch 100/300\n",
      "1439/1439 [==============================] - 0s 60us/step - loss: 0.4933 - accuracy: 0.7648 - val_loss: 0.5011 - val_accuracy: 0.7375\n",
      "Epoch 101/300\n",
      "1439/1439 [==============================] - 0s 61us/step - loss: 0.4741 - accuracy: 0.7724 - val_loss: 0.5199 - val_accuracy: 0.7406\n",
      "Epoch 102/300\n",
      "1439/1439 [==============================] - 0s 61us/step - loss: 0.4941 - accuracy: 0.7575 - val_loss: 0.5608 - val_accuracy: 0.6969\n",
      "Epoch 103/300\n",
      "1439/1439 [==============================] - 0s 62us/step - loss: 0.4912 - accuracy: 0.7571 - val_loss: 0.5423 - val_accuracy: 0.7281\n",
      "Epoch 104/300\n",
      "1439/1439 [==============================] - 0s 57us/step - loss: 0.4893 - accuracy: 0.7557 - val_loss: 0.5564 - val_accuracy: 0.7094\n",
      "Epoch 105/300\n",
      "1439/1439 [==============================] - 0s 88us/step - loss: 0.4858 - accuracy: 0.7578 - val_loss: 0.5972 - val_accuracy: 0.6469\n",
      "Epoch 106/300\n",
      "1439/1439 [==============================] - 0s 83us/step - loss: 0.4827 - accuracy: 0.7707 - val_loss: 0.6353 - val_accuracy: 0.6812\n",
      "Epoch 107/300\n",
      "1439/1439 [==============================] - 0s 78us/step - loss: 0.4815 - accuracy: 0.7700 - val_loss: 0.5755 - val_accuracy: 0.6906\n",
      "Epoch 108/300\n",
      "1439/1439 [==============================] - 0s 64us/step - loss: 0.4892 - accuracy: 0.7519 - val_loss: 0.5940 - val_accuracy: 0.6687\n",
      "Epoch 109/300\n",
      "1439/1439 [==============================] - 0s 87us/step - loss: 0.4863 - accuracy: 0.7488 - val_loss: 0.4976 - val_accuracy: 0.7312\n",
      "Epoch 110/300\n",
      "1439/1439 [==============================] - 0s 88us/step - loss: 0.4820 - accuracy: 0.7675 - val_loss: 0.5078 - val_accuracy: 0.7406\n",
      "Epoch 111/300\n",
      "1439/1439 [==============================] - 0s 59us/step - loss: 0.4951 - accuracy: 0.7637 - val_loss: 0.5043 - val_accuracy: 0.7375\n"
     ]
    },
    {
     "name": "stdout",
     "output_type": "stream",
     "text": [
      "Epoch 112/300\n",
      "1439/1439 [==============================] - 0s 62us/step - loss: 0.4751 - accuracy: 0.7724 - val_loss: 0.5983 - val_accuracy: 0.6969\n",
      "Epoch 113/300\n",
      "1439/1439 [==============================] - 0s 57us/step - loss: 0.4885 - accuracy: 0.7613 - val_loss: 0.5335 - val_accuracy: 0.7281\n",
      "Epoch 114/300\n",
      "1439/1439 [==============================] - 0s 59us/step - loss: 0.4867 - accuracy: 0.7620 - val_loss: 0.5276 - val_accuracy: 0.7281\n",
      "Epoch 115/300\n",
      "1439/1439 [==============================] - 0s 57us/step - loss: 0.4866 - accuracy: 0.7669 - val_loss: 0.5027 - val_accuracy: 0.7437\n",
      "Epoch 116/300\n",
      "1439/1439 [==============================] - 0s 97us/step - loss: 0.4818 - accuracy: 0.7707 - val_loss: 0.5350 - val_accuracy: 0.7094\n",
      "Epoch 117/300\n",
      "1439/1439 [==============================] - 0s 51us/step - loss: 0.4825 - accuracy: 0.7710 - val_loss: 0.5230 - val_accuracy: 0.7031\n",
      "Epoch 118/300\n",
      "1439/1439 [==============================] - 0s 45us/step - loss: 0.4768 - accuracy: 0.7735 - val_loss: 0.4816 - val_accuracy: 0.7625\n",
      "Epoch 119/300\n",
      "1439/1439 [==============================] - 0s 48us/step - loss: 0.4794 - accuracy: 0.7738 - val_loss: 0.5323 - val_accuracy: 0.7281\n",
      "Epoch 120/300\n",
      "1439/1439 [==============================] - 0s 57us/step - loss: 0.4655 - accuracy: 0.7776 - val_loss: 0.5117 - val_accuracy: 0.7312\n",
      "Epoch 121/300\n",
      "1439/1439 [==============================] - 0s 60us/step - loss: 0.4745 - accuracy: 0.7759 - val_loss: 0.4989 - val_accuracy: 0.7437\n",
      "Epoch 122/300\n",
      "1439/1439 [==============================] - 0s 66us/step - loss: 0.4774 - accuracy: 0.7707 - val_loss: 0.5110 - val_accuracy: 0.7312\n",
      "Epoch 123/300\n",
      "1439/1439 [==============================] - 0s 69us/step - loss: 0.4677 - accuracy: 0.7745 - val_loss: 0.5630 - val_accuracy: 0.6875\n",
      "Epoch 124/300\n",
      "1439/1439 [==============================] - 0s 56us/step - loss: 0.4664 - accuracy: 0.7728 - val_loss: 0.5043 - val_accuracy: 0.7188\n",
      "Epoch 125/300\n",
      "1439/1439 [==============================] - 0s 61us/step - loss: 0.4805 - accuracy: 0.7703 - val_loss: 0.5173 - val_accuracy: 0.7250\n",
      "Epoch 126/300\n",
      "1439/1439 [==============================] - 0s 56us/step - loss: 0.4761 - accuracy: 0.7717 - val_loss: 0.4795 - val_accuracy: 0.7656\n",
      "Epoch 127/300\n",
      "1439/1439 [==============================] - 0s 76us/step - loss: 0.4673 - accuracy: 0.7700 - val_loss: 0.4883 - val_accuracy: 0.7500\n",
      "Epoch 128/300\n",
      "1439/1439 [==============================] - 0s 57us/step - loss: 0.4888 - accuracy: 0.7596 - val_loss: 0.4843 - val_accuracy: 0.7375\n",
      "Epoch 129/300\n",
      "1439/1439 [==============================] - 0s 61us/step - loss: 0.4783 - accuracy: 0.7738 - val_loss: 0.5022 - val_accuracy: 0.7594\n",
      "Epoch 130/300\n",
      "1439/1439 [==============================] - 0s 56us/step - loss: 0.4815 - accuracy: 0.7741 - val_loss: 0.4991 - val_accuracy: 0.7312\n",
      "Epoch 131/300\n",
      "1439/1439 [==============================] - 0s 54us/step - loss: 0.4830 - accuracy: 0.7644 - val_loss: 0.5320 - val_accuracy: 0.7188\n",
      "Epoch 132/300\n",
      "1439/1439 [==============================] - 0s 58us/step - loss: 0.4830 - accuracy: 0.7669 - val_loss: 0.5336 - val_accuracy: 0.7281\n",
      "Epoch 133/300\n",
      "1439/1439 [==============================] - 0s 58us/step - loss: 0.4764 - accuracy: 0.7658 - val_loss: 0.4755 - val_accuracy: 0.7625\n",
      "Epoch 134/300\n",
      "1439/1439 [==============================] - 0s 62us/step - loss: 0.4588 - accuracy: 0.7818 - val_loss: 0.4999 - val_accuracy: 0.7375\n",
      "Epoch 135/300\n",
      "1439/1439 [==============================] - 0s 61us/step - loss: 0.4866 - accuracy: 0.7703 - val_loss: 0.5176 - val_accuracy: 0.7344\n",
      "Epoch 136/300\n",
      "1439/1439 [==============================] - 0s 59us/step - loss: 0.4780 - accuracy: 0.7662 - val_loss: 0.5172 - val_accuracy: 0.7312\n",
      "Epoch 137/300\n",
      "1439/1439 [==============================] - 0s 64us/step - loss: 0.4683 - accuracy: 0.7780 - val_loss: 0.5319 - val_accuracy: 0.7125\n",
      "Epoch 138/300\n",
      "1439/1439 [==============================] - 0s 64us/step - loss: 0.4720 - accuracy: 0.7700 - val_loss: 0.5380 - val_accuracy: 0.7188\n",
      "Epoch 139/300\n",
      "1439/1439 [==============================] - 0s 58us/step - loss: 0.4741 - accuracy: 0.7762 - val_loss: 0.5302 - val_accuracy: 0.7188\n",
      "Epoch 140/300\n",
      "1439/1439 [==============================] - 0s 61us/step - loss: 0.4746 - accuracy: 0.7745 - val_loss: 0.6030 - val_accuracy: 0.6625\n",
      "Epoch 141/300\n",
      "1439/1439 [==============================] - 0s 58us/step - loss: 0.4864 - accuracy: 0.7648 - val_loss: 0.4777 - val_accuracy: 0.7656\n",
      "Epoch 142/300\n",
      "1439/1439 [==============================] - 0s 59us/step - loss: 0.4729 - accuracy: 0.7748 - val_loss: 0.5278 - val_accuracy: 0.7281\n",
      "Epoch 143/300\n",
      "1439/1439 [==============================] - 0s 62us/step - loss: 0.4829 - accuracy: 0.7662 - val_loss: 0.4862 - val_accuracy: 0.7563\n",
      "Epoch 144/300\n",
      "1439/1439 [==============================] - 0s 62us/step - loss: 0.4754 - accuracy: 0.7780 - val_loss: 0.5184 - val_accuracy: 0.7344\n",
      "Epoch 145/300\n",
      "1439/1439 [==============================] - 0s 62us/step - loss: 0.4682 - accuracy: 0.7728 - val_loss: 0.5294 - val_accuracy: 0.7312\n",
      "Epoch 146/300\n",
      "1439/1439 [==============================] - 0s 59us/step - loss: 0.4681 - accuracy: 0.7769 - val_loss: 0.4969 - val_accuracy: 0.7437\n",
      "Epoch 147/300\n",
      "1439/1439 [==============================] - 0s 67us/step - loss: 0.4629 - accuracy: 0.7783 - val_loss: 0.4883 - val_accuracy: 0.7437\n",
      "Epoch 148/300\n",
      "1439/1439 [==============================] - 0s 76us/step - loss: 0.4865 - accuracy: 0.7682 - val_loss: 0.5082 - val_accuracy: 0.7375\n",
      "Epoch 149/300\n",
      "1439/1439 [==============================] - 0s 59us/step - loss: 0.4775 - accuracy: 0.7662 - val_loss: 0.5138 - val_accuracy: 0.7188\n",
      "Epoch 150/300\n",
      "1439/1439 [==============================] - 0s 63us/step - loss: 0.4672 - accuracy: 0.7644 - val_loss: 0.5069 - val_accuracy: 0.7188\n",
      "Epoch 151/300\n",
      "1439/1439 [==============================] - 0s 59us/step - loss: 0.4737 - accuracy: 0.7766 - val_loss: 0.5571 - val_accuracy: 0.6969\n",
      "Epoch 152/300\n",
      "1439/1439 [==============================] - 0s 58us/step - loss: 0.4819 - accuracy: 0.7696 - val_loss: 0.5076 - val_accuracy: 0.7063\n",
      "Epoch 153/300\n",
      "1439/1439 [==============================] - 0s 61us/step - loss: 0.4751 - accuracy: 0.7731 - val_loss: 0.4938 - val_accuracy: 0.7250\n",
      "Epoch 154/300\n",
      "1439/1439 [==============================] - 0s 58us/step - loss: 0.4634 - accuracy: 0.7867 - val_loss: 0.4956 - val_accuracy: 0.7281\n",
      "Epoch 155/300\n",
      "1439/1439 [==============================] - 0s 60us/step - loss: 0.4740 - accuracy: 0.7644 - val_loss: 0.5028 - val_accuracy: 0.7375\n",
      "Epoch 156/300\n",
      "1439/1439 [==============================] - 0s 56us/step - loss: 0.4561 - accuracy: 0.7828 - val_loss: 0.4694 - val_accuracy: 0.7719\n",
      "Epoch 157/300\n",
      "1439/1439 [==============================] - 0s 58us/step - loss: 0.4489 - accuracy: 0.7808 - val_loss: 0.4983 - val_accuracy: 0.7312\n",
      "Epoch 158/300\n",
      "1439/1439 [==============================] - 0s 58us/step - loss: 0.4747 - accuracy: 0.7686 - val_loss: 0.4948 - val_accuracy: 0.7281\n",
      "Epoch 159/300\n",
      "1439/1439 [==============================] - 0s 64us/step - loss: 0.4536 - accuracy: 0.7839 - val_loss: 0.4928 - val_accuracy: 0.7563\n",
      "Epoch 160/300\n",
      "1439/1439 [==============================] - 0s 52us/step - loss: 0.4671 - accuracy: 0.7780 - val_loss: 0.4712 - val_accuracy: 0.7719\n",
      "Epoch 161/300\n",
      "1439/1439 [==============================] - 0s 62us/step - loss: 0.4623 - accuracy: 0.7735 - val_loss: 0.4871 - val_accuracy: 0.7500\n",
      "Epoch 162/300\n",
      "1439/1439 [==============================] - 0s 59us/step - loss: 0.4778 - accuracy: 0.7714 - val_loss: 0.5016 - val_accuracy: 0.7594\n",
      "Epoch 163/300\n",
      "1439/1439 [==============================] - 0s 63us/step - loss: 0.4771 - accuracy: 0.7665 - val_loss: 0.4683 - val_accuracy: 0.7844\n",
      "Epoch 164/300\n",
      "1439/1439 [==============================] - 0s 59us/step - loss: 0.4594 - accuracy: 0.7835 - val_loss: 0.4847 - val_accuracy: 0.7688\n",
      "Epoch 165/300\n",
      "1439/1439 [==============================] - 0s 61us/step - loss: 0.4597 - accuracy: 0.7773 - val_loss: 0.4801 - val_accuracy: 0.7937\n",
      "Epoch 166/300\n",
      "1439/1439 [==============================] - 0s 61us/step - loss: 0.4680 - accuracy: 0.7728 - val_loss: 0.4768 - val_accuracy: 0.7625\n",
      "Epoch 167/300\n"
     ]
    },
    {
     "name": "stdout",
     "output_type": "stream",
     "text": [
      "1439/1439 [==============================] - 0s 60us/step - loss: 0.4599 - accuracy: 0.7783 - val_loss: 0.5077 - val_accuracy: 0.7250\n",
      "Epoch 168/300\n",
      "1439/1439 [==============================] - 0s 61us/step - loss: 0.4701 - accuracy: 0.7821 - val_loss: 0.5487 - val_accuracy: 0.7250\n",
      "Epoch 169/300\n",
      "1439/1439 [==============================] - 0s 48us/step - loss: 0.4656 - accuracy: 0.7787 - val_loss: 0.4640 - val_accuracy: 0.7906\n",
      "Epoch 170/300\n",
      "1439/1439 [==============================] - 0s 48us/step - loss: 0.4623 - accuracy: 0.7755 - val_loss: 0.4739 - val_accuracy: 0.7563\n",
      "Epoch 171/300\n",
      "1439/1439 [==============================] - 0s 49us/step - loss: 0.4531 - accuracy: 0.7766 - val_loss: 0.4602 - val_accuracy: 0.7625\n",
      "Epoch 172/300\n",
      "1439/1439 [==============================] - 0s 53us/step - loss: 0.4588 - accuracy: 0.7787 - val_loss: 0.4947 - val_accuracy: 0.7594\n",
      "Epoch 173/300\n",
      "1439/1439 [==============================] - 0s 50us/step - loss: 0.4641 - accuracy: 0.7839 - val_loss: 0.4931 - val_accuracy: 0.7625\n",
      "Epoch 174/300\n",
      "1439/1439 [==============================] - 0s 54us/step - loss: 0.4660 - accuracy: 0.7794 - val_loss: 0.5093 - val_accuracy: 0.7375\n",
      "Epoch 175/300\n",
      "1439/1439 [==============================] - 0s 61us/step - loss: 0.4518 - accuracy: 0.7929 - val_loss: 0.4899 - val_accuracy: 0.7781\n",
      "Epoch 176/300\n",
      "1439/1439 [==============================] - 0s 56us/step - loss: 0.4634 - accuracy: 0.7797 - val_loss: 0.5144 - val_accuracy: 0.7063\n",
      "Epoch 177/300\n",
      "1439/1439 [==============================] - 0s 58us/step - loss: 0.4516 - accuracy: 0.7870 - val_loss: 0.4866 - val_accuracy: 0.7781\n",
      "Epoch 178/300\n",
      "1439/1439 [==============================] - 0s 61us/step - loss: 0.4497 - accuracy: 0.7874 - val_loss: 0.4849 - val_accuracy: 0.7500\n",
      "Epoch 179/300\n",
      "1439/1439 [==============================] - 0s 73us/step - loss: 0.4646 - accuracy: 0.7717 - val_loss: 0.4712 - val_accuracy: 0.7844\n",
      "Epoch 180/300\n",
      "1439/1439 [==============================] - 0s 55us/step - loss: 0.4508 - accuracy: 0.7856 - val_loss: 0.4717 - val_accuracy: 0.7688\n",
      "Epoch 181/300\n",
      "1439/1439 [==============================] - 0s 54us/step - loss: 0.4565 - accuracy: 0.7814 - val_loss: 0.4686 - val_accuracy: 0.7656\n",
      "Epoch 182/300\n",
      "1439/1439 [==============================] - 0s 58us/step - loss: 0.4485 - accuracy: 0.7929 - val_loss: 0.5374 - val_accuracy: 0.7000\n",
      "Epoch 183/300\n",
      "1439/1439 [==============================] - 0s 59us/step - loss: 0.4709 - accuracy: 0.7769 - val_loss: 0.5521 - val_accuracy: 0.7094\n",
      "Epoch 184/300\n",
      "1439/1439 [==============================] - 0s 87us/step - loss: 0.4468 - accuracy: 0.7870 - val_loss: 0.5252 - val_accuracy: 0.7250\n",
      "Epoch 185/300\n",
      "1439/1439 [==============================] - 0s 91us/step - loss: 0.4518 - accuracy: 0.7814 - val_loss: 0.5225 - val_accuracy: 0.7469\n",
      "Epoch 186/300\n",
      "1439/1439 [==============================] - 0s 63us/step - loss: 0.4478 - accuracy: 0.7874 - val_loss: 0.5583 - val_accuracy: 0.7250\n",
      "Epoch 187/300\n",
      "1439/1439 [==============================] - 0s 62us/step - loss: 0.4416 - accuracy: 0.7884 - val_loss: 0.4636 - val_accuracy: 0.7781\n",
      "Epoch 188/300\n",
      "1439/1439 [==============================] - 0s 56us/step - loss: 0.4519 - accuracy: 0.7946 - val_loss: 0.5127 - val_accuracy: 0.7437\n",
      "Epoch 189/300\n",
      "1439/1439 [==============================] - 0s 61us/step - loss: 0.4618 - accuracy: 0.7801 - val_loss: 0.5089 - val_accuracy: 0.7656\n",
      "Epoch 190/300\n",
      "1439/1439 [==============================] - 0s 55us/step - loss: 0.4598 - accuracy: 0.7808 - val_loss: 0.4924 - val_accuracy: 0.7594\n",
      "Epoch 191/300\n",
      "1439/1439 [==============================] - 0s 59us/step - loss: 0.4660 - accuracy: 0.7735 - val_loss: 0.4997 - val_accuracy: 0.7344\n",
      "Epoch 192/300\n",
      "1439/1439 [==============================] - 0s 55us/step - loss: 0.4595 - accuracy: 0.7714 - val_loss: 0.5170 - val_accuracy: 0.7469\n",
      "Epoch 193/300\n",
      "1439/1439 [==============================] - 0s 63us/step - loss: 0.4480 - accuracy: 0.7821 - val_loss: 0.4812 - val_accuracy: 0.7875\n",
      "Epoch 194/300\n",
      "1439/1439 [==============================] - 0s 56us/step - loss: 0.4650 - accuracy: 0.7766 - val_loss: 0.4681 - val_accuracy: 0.7688\n",
      "Epoch 195/300\n",
      "1439/1439 [==============================] - 0s 59us/step - loss: 0.4543 - accuracy: 0.7870 - val_loss: 0.4650 - val_accuracy: 0.7656\n",
      "Epoch 196/300\n",
      "1439/1439 [==============================] - 0s 67us/step - loss: 0.4526 - accuracy: 0.7880 - val_loss: 0.4721 - val_accuracy: 0.7563\n",
      "Epoch 197/300\n",
      "1439/1439 [==============================] - 0s 57us/step - loss: 0.4504 - accuracy: 0.7870 - val_loss: 0.4672 - val_accuracy: 0.7812\n",
      "Epoch 198/300\n",
      "1439/1439 [==============================] - 0s 47us/step - loss: 0.4471 - accuracy: 0.7787 - val_loss: 0.4647 - val_accuracy: 0.7719\n",
      "Epoch 199/300\n",
      "1439/1439 [==============================] - 0s 64us/step - loss: 0.4540 - accuracy: 0.7894 - val_loss: 0.4728 - val_accuracy: 0.7750\n",
      "Epoch 200/300\n",
      "1439/1439 [==============================] - 0s 65us/step - loss: 0.4549 - accuracy: 0.7790 - val_loss: 0.4896 - val_accuracy: 0.7437\n",
      "Epoch 201/300\n",
      "1439/1439 [==============================] - 0s 59us/step - loss: 0.4357 - accuracy: 0.7898 - val_loss: 0.4983 - val_accuracy: 0.7563\n",
      "Epoch 202/300\n",
      "1439/1439 [==============================] - 0s 92us/step - loss: 0.4633 - accuracy: 0.7814 - val_loss: 0.4826 - val_accuracy: 0.7563\n",
      "Epoch 203/300\n",
      "1439/1439 [==============================] - 0s 54us/step - loss: 0.4556 - accuracy: 0.7811 - val_loss: 0.4970 - val_accuracy: 0.7219\n",
      "Epoch 204/300\n",
      "1439/1439 [==============================] - 0s 55us/step - loss: 0.4490 - accuracy: 0.7912 - val_loss: 0.5710 - val_accuracy: 0.6875\n",
      "Epoch 205/300\n",
      "1439/1439 [==============================] - 0s 57us/step - loss: 0.4420 - accuracy: 0.7818 - val_loss: 0.5648 - val_accuracy: 0.6906\n",
      "Epoch 206/300\n",
      "1439/1439 [==============================] - 0s 60us/step - loss: 0.4431 - accuracy: 0.7898 - val_loss: 0.4922 - val_accuracy: 0.7500\n",
      "Epoch 207/300\n",
      "1439/1439 [==============================] - 0s 58us/step - loss: 0.4514 - accuracy: 0.7856 - val_loss: 0.5866 - val_accuracy: 0.7031\n",
      "Epoch 208/300\n",
      "1439/1439 [==============================] - 0s 54us/step - loss: 0.4558 - accuracy: 0.7811 - val_loss: 0.4946 - val_accuracy: 0.7688\n",
      "Epoch 209/300\n",
      "1439/1439 [==============================] - 0s 70us/step - loss: 0.4369 - accuracy: 0.7887 - val_loss: 0.4932 - val_accuracy: 0.7625\n",
      "Epoch 210/300\n",
      "1439/1439 [==============================] - 0s 57us/step - loss: 0.4458 - accuracy: 0.7894 - val_loss: 0.4998 - val_accuracy: 0.7563\n",
      "Epoch 211/300\n",
      "1439/1439 [==============================] - 0s 63us/step - loss: 0.4443 - accuracy: 0.7898 - val_loss: 0.4804 - val_accuracy: 0.7469\n",
      "Epoch 212/300\n",
      "1439/1439 [==============================] - 0s 59us/step - loss: 0.4696 - accuracy: 0.7707 - val_loss: 0.5496 - val_accuracy: 0.7219\n",
      "Epoch 213/300\n",
      "1439/1439 [==============================] - 0s 57us/step - loss: 0.4589 - accuracy: 0.7752 - val_loss: 0.4712 - val_accuracy: 0.7625\n",
      "Epoch 214/300\n",
      "1439/1439 [==============================] - 0s 61us/step - loss: 0.4474 - accuracy: 0.7912 - val_loss: 0.4729 - val_accuracy: 0.7688\n",
      "Epoch 215/300\n",
      "1439/1439 [==============================] - 0s 65us/step - loss: 0.4430 - accuracy: 0.7814 - val_loss: 0.5122 - val_accuracy: 0.7281\n",
      "Epoch 216/300\n",
      "1439/1439 [==============================] - 0s 64us/step - loss: 0.4323 - accuracy: 0.7971 - val_loss: 0.4785 - val_accuracy: 0.7688\n",
      "Epoch 217/300\n",
      "1439/1439 [==============================] - 0s 59us/step - loss: 0.4605 - accuracy: 0.7735 - val_loss: 0.5091 - val_accuracy: 0.7375\n",
      "Epoch 218/300\n",
      "1439/1439 [==============================] - 0s 59us/step - loss: 0.4523 - accuracy: 0.7853 - val_loss: 0.4973 - val_accuracy: 0.7844\n",
      "Epoch 219/300\n",
      "1439/1439 [==============================] - 0s 57us/step - loss: 0.4275 - accuracy: 0.7936 - val_loss: 0.5042 - val_accuracy: 0.7625\n",
      "Epoch 220/300\n",
      "1439/1439 [==============================] - 0s 59us/step - loss: 0.4310 - accuracy: 0.7929 - val_loss: 0.4695 - val_accuracy: 0.7875\n",
      "Epoch 221/300\n",
      "1439/1439 [==============================] - 0s 61us/step - loss: 0.4456 - accuracy: 0.7849 - val_loss: 0.4860 - val_accuracy: 0.7625\n",
      "Epoch 222/300\n"
     ]
    },
    {
     "name": "stdout",
     "output_type": "stream",
     "text": [
      "1439/1439 [==============================] - 0s 50us/step - loss: 0.4563 - accuracy: 0.7894 - val_loss: 0.4909 - val_accuracy: 0.7563\n",
      "Epoch 223/300\n",
      "1439/1439 [==============================] - 0s 49us/step - loss: 0.4506 - accuracy: 0.7818 - val_loss: 0.4720 - val_accuracy: 0.7750\n",
      "Epoch 224/300\n",
      "1439/1439 [==============================] - 0s 55us/step - loss: 0.4343 - accuracy: 0.8026 - val_loss: 0.5041 - val_accuracy: 0.7500\n",
      "Epoch 225/300\n",
      "1439/1439 [==============================] - 0s 49us/step - loss: 0.4414 - accuracy: 0.7814 - val_loss: 0.4933 - val_accuracy: 0.7469\n",
      "Epoch 226/300\n",
      "1439/1439 [==============================] - 0s 51us/step - loss: 0.4422 - accuracy: 0.7835 - val_loss: 0.4948 - val_accuracy: 0.7469\n",
      "Epoch 227/300\n",
      "1439/1439 [==============================] - 0s 52us/step - loss: 0.4528 - accuracy: 0.7887 - val_loss: 0.4797 - val_accuracy: 0.7688\n",
      "Epoch 228/300\n",
      "1439/1439 [==============================] - 0s 52us/step - loss: 0.4467 - accuracy: 0.7915 - val_loss: 0.4772 - val_accuracy: 0.7563\n",
      "Epoch 229/300\n",
      "1439/1439 [==============================] - 0s 50us/step - loss: 0.4421 - accuracy: 0.7891 - val_loss: 0.4722 - val_accuracy: 0.7750\n",
      "Epoch 230/300\n",
      "1439/1439 [==============================] - 0s 50us/step - loss: 0.4529 - accuracy: 0.7818 - val_loss: 0.4855 - val_accuracy: 0.7594\n",
      "Epoch 231/300\n",
      "1439/1439 [==============================] - 0s 49us/step - loss: 0.4377 - accuracy: 0.7787 - val_loss: 0.5855 - val_accuracy: 0.7094\n",
      "Epoch 232/300\n",
      "1439/1439 [==============================] - 0s 51us/step - loss: 0.4437 - accuracy: 0.7974 - val_loss: 0.5238 - val_accuracy: 0.7156\n",
      "Epoch 233/300\n",
      "1439/1439 [==============================] - 0s 49us/step - loss: 0.4399 - accuracy: 0.7943 - val_loss: 0.5076 - val_accuracy: 0.7312\n",
      "Epoch 234/300\n",
      "1439/1439 [==============================] - 0s 55us/step - loss: 0.4486 - accuracy: 0.7818 - val_loss: 0.5060 - val_accuracy: 0.7688\n",
      "Epoch 235/300\n",
      "1439/1439 [==============================] - 0s 48us/step - loss: 0.4327 - accuracy: 0.7856 - val_loss: 0.5148 - val_accuracy: 0.7500\n",
      "Epoch 236/300\n",
      "1439/1439 [==============================] - 0s 51us/step - loss: 0.4433 - accuracy: 0.7863 - val_loss: 0.4961 - val_accuracy: 0.7688\n",
      "Epoch 237/300\n",
      "1439/1439 [==============================] - 0s 52us/step - loss: 0.4485 - accuracy: 0.7839 - val_loss: 0.5395 - val_accuracy: 0.7250\n",
      "Epoch 238/300\n",
      "1439/1439 [==============================] - 0s 66us/step - loss: 0.4273 - accuracy: 0.7887 - val_loss: 0.4779 - val_accuracy: 0.7563\n",
      "Epoch 239/300\n",
      "1439/1439 [==============================] - 0s 70us/step - loss: 0.4399 - accuracy: 0.7915 - val_loss: 0.4601 - val_accuracy: 0.7625\n",
      "Epoch 240/300\n",
      "1439/1439 [==============================] - 0s 64us/step - loss: 0.4512 - accuracy: 0.7891 - val_loss: 0.5403 - val_accuracy: 0.6969\n",
      "Epoch 241/300\n",
      "1439/1439 [==============================] - 0s 59us/step - loss: 0.4297 - accuracy: 0.7901 - val_loss: 0.4916 - val_accuracy: 0.7781\n",
      "Epoch 242/300\n",
      "1439/1439 [==============================] - 0s 49us/step - loss: 0.4318 - accuracy: 0.7943 - val_loss: 0.5090 - val_accuracy: 0.7531\n",
      "Epoch 243/300\n",
      "1439/1439 [==============================] - 0s 51us/step - loss: 0.4393 - accuracy: 0.7919 - val_loss: 0.4978 - val_accuracy: 0.7563\n",
      "Epoch 244/300\n",
      "1439/1439 [==============================] - 0s 52us/step - loss: 0.4417 - accuracy: 0.7825 - val_loss: 0.4706 - val_accuracy: 0.7750\n",
      "Epoch 245/300\n",
      "1439/1439 [==============================] - 0s 64us/step - loss: 0.4368 - accuracy: 0.7974 - val_loss: 0.5508 - val_accuracy: 0.7469\n",
      "Epoch 246/300\n",
      "1439/1439 [==============================] - 0s 81us/step - loss: 0.4557 - accuracy: 0.7828 - val_loss: 0.4851 - val_accuracy: 0.7875\n",
      "Epoch 247/300\n",
      "1439/1439 [==============================] - 0s 91us/step - loss: 0.4437 - accuracy: 0.7842 - val_loss: 0.5089 - val_accuracy: 0.7688\n",
      "Epoch 248/300\n",
      "1439/1439 [==============================] - 0s 84us/step - loss: 0.4361 - accuracy: 0.7933 - val_loss: 0.4719 - val_accuracy: 0.7563\n",
      "Epoch 249/300\n",
      "1439/1439 [==============================] - 0s 142us/step - loss: 0.4322 - accuracy: 0.7985 - val_loss: 0.5385 - val_accuracy: 0.7437\n",
      "Epoch 250/300\n",
      "1439/1439 [==============================] - 0s 95us/step - loss: 0.4355 - accuracy: 0.7919 - val_loss: 0.5084 - val_accuracy: 0.7688\n",
      "Epoch 251/300\n",
      "1439/1439 [==============================] - 0s 71us/step - loss: 0.4364 - accuracy: 0.7849 - val_loss: 0.4789 - val_accuracy: 0.7688\n",
      "Epoch 252/300\n",
      "1439/1439 [==============================] - 0s 47us/step - loss: 0.4279 - accuracy: 0.7971 - val_loss: 0.5138 - val_accuracy: 0.7594\n",
      "Epoch 253/300\n",
      "1439/1439 [==============================] - 0s 51us/step - loss: 0.4330 - accuracy: 0.7946 - val_loss: 0.5213 - val_accuracy: 0.7344\n",
      "Epoch 254/300\n",
      "1439/1439 [==============================] - 0s 69us/step - loss: 0.4430 - accuracy: 0.7981 - val_loss: 0.4798 - val_accuracy: 0.7531\n",
      "Epoch 255/300\n",
      "1439/1439 [==============================] - 0s 59us/step - loss: 0.4229 - accuracy: 0.8023 - val_loss: 0.6222 - val_accuracy: 0.7219\n",
      "Epoch 256/300\n",
      "1439/1439 [==============================] - 0s 53us/step - loss: 0.4174 - accuracy: 0.7967 - val_loss: 0.4913 - val_accuracy: 0.7656\n",
      "Epoch 257/300\n",
      "1439/1439 [==============================] - 0s 52us/step - loss: 0.4368 - accuracy: 0.7919 - val_loss: 0.5355 - val_accuracy: 0.7188\n",
      "Epoch 258/300\n",
      "1439/1439 [==============================] - 0s 78us/step - loss: 0.4364 - accuracy: 0.7880 - val_loss: 0.4541 - val_accuracy: 0.7875\n",
      "Epoch 259/300\n",
      "1439/1439 [==============================] - 0s 144us/step - loss: 0.4385 - accuracy: 0.7926 - val_loss: 0.4951 - val_accuracy: 0.7563\n",
      "Epoch 260/300\n",
      "1439/1439 [==============================] - 0s 107us/step - loss: 0.4347 - accuracy: 0.7929 - val_loss: 0.4686 - val_accuracy: 0.7625\n",
      "Epoch 261/300\n",
      "1439/1439 [==============================] - 0s 54us/step - loss: 0.4293 - accuracy: 0.8006 - val_loss: 0.4734 - val_accuracy: 0.7719\n",
      "Epoch 262/300\n",
      "1439/1439 [==============================] - 0s 68us/step - loss: 0.4340 - accuracy: 0.7929 - val_loss: 0.4871 - val_accuracy: 0.7531\n",
      "Epoch 263/300\n",
      "1439/1439 [==============================] - ETA: 0s - loss: 0.4430 - accuracy: 0.79 - 0s 108us/step - loss: 0.4432 - accuracy: 0.7936 - val_loss: 0.5067 - val_accuracy: 0.7437\n",
      "Epoch 264/300\n",
      "1439/1439 [==============================] - 0s 97us/step - loss: 0.4401 - accuracy: 0.7946 - val_loss: 0.5123 - val_accuracy: 0.7469\n",
      "Epoch 265/300\n",
      "1439/1439 [==============================] - 0s 102us/step - loss: 0.4168 - accuracy: 0.7950 - val_loss: 0.4971 - val_accuracy: 0.7312\n",
      "Epoch 266/300\n",
      "1439/1439 [==============================] - 0s 93us/step - loss: 0.4347 - accuracy: 0.7880 - val_loss: 0.5262 - val_accuracy: 0.7188\n",
      "Epoch 267/300\n",
      "1439/1439 [==============================] - 0s 95us/step - loss: 0.4269 - accuracy: 0.8013 - val_loss: 0.4688 - val_accuracy: 0.8000\n",
      "Epoch 268/300\n",
      "1439/1439 [==============================] - 0s 67us/step - loss: 0.4198 - accuracy: 0.7960 - val_loss: 0.4672 - val_accuracy: 0.7688\n",
      "Epoch 269/300\n",
      "1439/1439 [==============================] - 0s 49us/step - loss: 0.4364 - accuracy: 0.7964 - val_loss: 0.4781 - val_accuracy: 0.7531\n",
      "Epoch 270/300\n",
      "1439/1439 [==============================] - 0s 49us/step - loss: 0.4231 - accuracy: 0.7974 - val_loss: 0.4781 - val_accuracy: 0.7625\n",
      "Epoch 271/300\n",
      "1439/1439 [==============================] - 0s 51us/step - loss: 0.4269 - accuracy: 0.7960 - val_loss: 0.4572 - val_accuracy: 0.7750\n",
      "Epoch 272/300\n",
      "1439/1439 [==============================] - 0s 67us/step - loss: 0.4326 - accuracy: 0.7957 - val_loss: 0.4973 - val_accuracy: 0.7625\n",
      "Epoch 273/300\n",
      "1439/1439 [==============================] - 0s 53us/step - loss: 0.4310 - accuracy: 0.7915 - val_loss: 0.4948 - val_accuracy: 0.7750\n",
      "Epoch 274/300\n",
      "1439/1439 [==============================] - 0s 69us/step - loss: 0.4454 - accuracy: 0.7741 - val_loss: 0.5188 - val_accuracy: 0.7125\n",
      "Epoch 275/300\n",
      "1439/1439 [==============================] - 0s 118us/step - loss: 0.4167 - accuracy: 0.8016 - val_loss: 0.4946 - val_accuracy: 0.7875\n",
      "Epoch 276/300\n",
      "1439/1439 [==============================] - 0s 88us/step - loss: 0.4362 - accuracy: 0.7874 - val_loss: 0.5082 - val_accuracy: 0.7781\n",
      "Epoch 277/300\n"
     ]
    },
    {
     "name": "stdout",
     "output_type": "stream",
     "text": [
      "1439/1439 [==============================] - 0s 63us/step - loss: 0.4196 - accuracy: 0.8037 - val_loss: 0.4706 - val_accuracy: 0.7750\n",
      "Epoch 278/300\n",
      "1439/1439 [==============================] - 0s 53us/step - loss: 0.4206 - accuracy: 0.7978 - val_loss: 0.4782 - val_accuracy: 0.7563\n",
      "Epoch 279/300\n",
      "1439/1439 [==============================] - 0s 48us/step - loss: 0.4340 - accuracy: 0.7818 - val_loss: 0.5051 - val_accuracy: 0.7531\n",
      "Epoch 280/300\n",
      "1439/1439 [==============================] - 0s 51us/step - loss: 0.4392 - accuracy: 0.7936 - val_loss: 0.4895 - val_accuracy: 0.7812\n",
      "Epoch 281/300\n",
      "1439/1439 [==============================] - 0s 65us/step - loss: 0.4149 - accuracy: 0.8002 - val_loss: 0.5245 - val_accuracy: 0.7437\n",
      "Epoch 282/300\n",
      "1439/1439 [==============================] - 0s 54us/step - loss: 0.4356 - accuracy: 0.7940 - val_loss: 0.5259 - val_accuracy: 0.7437\n",
      "Epoch 283/300\n",
      "1439/1439 [==============================] - 0s 48us/step - loss: 0.4140 - accuracy: 0.8127 - val_loss: 0.5249 - val_accuracy: 0.7406\n",
      "Epoch 284/300\n",
      "1439/1439 [==============================] - 0s 54us/step - loss: 0.4241 - accuracy: 0.8033 - val_loss: 0.4676 - val_accuracy: 0.7750\n",
      "Epoch 285/300\n",
      "1439/1439 [==============================] - 0s 54us/step - loss: 0.4205 - accuracy: 0.7971 - val_loss: 0.4936 - val_accuracy: 0.7688\n",
      "Epoch 286/300\n",
      "1439/1439 [==============================] - 0s 55us/step - loss: 0.4308 - accuracy: 0.7929 - val_loss: 0.5209 - val_accuracy: 0.7375\n",
      "Epoch 287/300\n",
      "1439/1439 [==============================] - 0s 57us/step - loss: 0.4325 - accuracy: 0.8002 - val_loss: 0.5007 - val_accuracy: 0.7875\n",
      "Epoch 288/300\n",
      "1439/1439 [==============================] - 0s 62us/step - loss: 0.4148 - accuracy: 0.8103 - val_loss: 0.4843 - val_accuracy: 0.7437\n",
      "Epoch 289/300\n",
      "1439/1439 [==============================] - 0s 58us/step - loss: 0.4138 - accuracy: 0.7971 - val_loss: 0.4827 - val_accuracy: 0.7812\n",
      "Epoch 290/300\n",
      "1439/1439 [==============================] - 0s 56us/step - loss: 0.4274 - accuracy: 0.7950 - val_loss: 0.5046 - val_accuracy: 0.7719\n",
      "Epoch 291/300\n",
      "1439/1439 [==============================] - 0s 64us/step - loss: 0.4235 - accuracy: 0.7926 - val_loss: 0.4782 - val_accuracy: 0.7750\n",
      "Epoch 292/300\n",
      "1439/1439 [==============================] - 0s 62us/step - loss: 0.4051 - accuracy: 0.8082 - val_loss: 0.5052 - val_accuracy: 0.7625\n",
      "Epoch 293/300\n",
      "1439/1439 [==============================] - 0s 49us/step - loss: 0.4291 - accuracy: 0.8068 - val_loss: 0.5071 - val_accuracy: 0.7531\n",
      "Epoch 294/300\n",
      "1439/1439 [==============================] - 0s 49us/step - loss: 0.4234 - accuracy: 0.8040 - val_loss: 0.4770 - val_accuracy: 0.7563\n",
      "Epoch 295/300\n",
      "1439/1439 [==============================] - 0s 51us/step - loss: 0.4104 - accuracy: 0.8075 - val_loss: 0.5038 - val_accuracy: 0.7500\n",
      "Epoch 296/300\n",
      "1439/1439 [==============================] - 0s 48us/step - loss: 0.4146 - accuracy: 0.8068 - val_loss: 0.5491 - val_accuracy: 0.7188\n",
      "Epoch 297/300\n",
      "1439/1439 [==============================] - 0s 48us/step - loss: 0.4209 - accuracy: 0.7974 - val_loss: 0.5427 - val_accuracy: 0.7406\n",
      "Epoch 298/300\n",
      "1439/1439 [==============================] - 0s 49us/step - loss: 0.4332 - accuracy: 0.7926 - val_loss: 0.4829 - val_accuracy: 0.7750\n",
      "Epoch 299/300\n",
      "1439/1439 [==============================] - 0s 56us/step - loss: 0.4111 - accuracy: 0.8065 - val_loss: 0.4807 - val_accuracy: 0.7688\n",
      "Epoch 300/300\n",
      "1439/1439 [==============================] - 0s 73us/step - loss: 0.4250 - accuracy: 0.7985 - val_loss: 0.5015 - val_accuracy: 0.7500\n"
     ]
    },
    {
     "data": {
      "text/plain": [
       "<keras.callbacks.callbacks.History at 0x7fe8d4e18bd0>"
      ]
     },
     "execution_count": 207,
     "metadata": {},
     "output_type": "execute_result"
    }
   ],
   "source": [
    "model6.fit(X_train_nn, y_train_nn_onehot, batch_size = 64, epochs = 300, validation_data = (X_test_nn, y_test_nn_onehot))"
   ]
  },
  {
   "cell_type": "markdown",
   "metadata": {},
   "source": [
    "After trying multiple architectures, it seems like NN can't get above 80%. The limited amount of data is likely the reason. The best performance is around 76%."
   ]
  },
  {
   "cell_type": "code",
   "execution_count": 208,
   "metadata": {},
   "outputs": [
    {
     "name": "stdout",
     "output_type": "stream",
     "text": [
      "The accuracy on the training set is 0.8297428769979153\n",
      "The accuracy on the test set is 0.75\n"
     ]
    }
   ],
   "source": [
    "# append predictions\n",
    "yhat_train = np.argmax(model6.predict(X_train_nn), axis = 1)\n",
    "yhat_test = np.argmax(model6.predict(X_test_nn), axis = 1)\n",
    "predictions_train = pd.concat([predictions_train, pd.Series(yhat_train)], axis = 1)\n",
    "predictions_test = pd.concat([predictions_test, pd.Series(yhat_test)], axis = 1)\n",
    "predictions_train.rename(columns = {0:\"model6\"}, inplace = True)\n",
    "predictions_test.rename(columns = {0:\"model6\"}, inplace = True)\n",
    "print(f'The accuracy on the training set is {accuracy_score(predictions_train[\"y\"], yhat_train)}')\n",
    "print(f'The accuracy on the test set is {accuracy_score(predictions_test[\"y\"], yhat_test)}')"
   ]
  },
  {
   "cell_type": "code",
   "execution_count": 209,
   "metadata": {},
   "outputs": [
    {
     "data": {
      "text/html": [
       "<div>\n",
       "<style scoped>\n",
       "    .dataframe tbody tr th:only-of-type {\n",
       "        vertical-align: middle;\n",
       "    }\n",
       "\n",
       "    .dataframe tbody tr th {\n",
       "        vertical-align: top;\n",
       "    }\n",
       "\n",
       "    .dataframe thead th {\n",
       "        text-align: right;\n",
       "    }\n",
       "</style>\n",
       "<table border=\"1\" class=\"dataframe\">\n",
       "  <thead>\n",
       "    <tr style=\"text-align: right;\">\n",
       "      <th></th>\n",
       "      <th>y</th>\n",
       "      <th>model1</th>\n",
       "      <th>model2</th>\n",
       "      <th>model3</th>\n",
       "      <th>model4</th>\n",
       "      <th>model5</th>\n",
       "      <th>model6</th>\n",
       "    </tr>\n",
       "  </thead>\n",
       "  <tbody>\n",
       "    <tr>\n",
       "      <th>0</th>\n",
       "      <td>1</td>\n",
       "      <td>0</td>\n",
       "      <td>0</td>\n",
       "      <td>0</td>\n",
       "      <td>0</td>\n",
       "      <td>0</td>\n",
       "      <td>1</td>\n",
       "    </tr>\n",
       "    <tr>\n",
       "      <th>1</th>\n",
       "      <td>1</td>\n",
       "      <td>1</td>\n",
       "      <td>1</td>\n",
       "      <td>1</td>\n",
       "      <td>1</td>\n",
       "      <td>0</td>\n",
       "      <td>1</td>\n",
       "    </tr>\n",
       "    <tr>\n",
       "      <th>2</th>\n",
       "      <td>1</td>\n",
       "      <td>1</td>\n",
       "      <td>1</td>\n",
       "      <td>1</td>\n",
       "      <td>1</td>\n",
       "      <td>1</td>\n",
       "      <td>1</td>\n",
       "    </tr>\n",
       "    <tr>\n",
       "      <th>3</th>\n",
       "      <td>0</td>\n",
       "      <td>0</td>\n",
       "      <td>0</td>\n",
       "      <td>0</td>\n",
       "      <td>0</td>\n",
       "      <td>0</td>\n",
       "      <td>0</td>\n",
       "    </tr>\n",
       "    <tr>\n",
       "      <th>4</th>\n",
       "      <td>1</td>\n",
       "      <td>1</td>\n",
       "      <td>1</td>\n",
       "      <td>1</td>\n",
       "      <td>1</td>\n",
       "      <td>1</td>\n",
       "      <td>1</td>\n",
       "    </tr>\n",
       "    <tr>\n",
       "      <th>...</th>\n",
       "      <td>...</td>\n",
       "      <td>...</td>\n",
       "      <td>...</td>\n",
       "      <td>...</td>\n",
       "      <td>...</td>\n",
       "      <td>...</td>\n",
       "      <td>...</td>\n",
       "    </tr>\n",
       "    <tr>\n",
       "      <th>155</th>\n",
       "      <td>0</td>\n",
       "      <td>0</td>\n",
       "      <td>0</td>\n",
       "      <td>0</td>\n",
       "      <td>1</td>\n",
       "      <td>0</td>\n",
       "      <td>0</td>\n",
       "    </tr>\n",
       "    <tr>\n",
       "      <th>156</th>\n",
       "      <td>0</td>\n",
       "      <td>0</td>\n",
       "      <td>0</td>\n",
       "      <td>0</td>\n",
       "      <td>0</td>\n",
       "      <td>0</td>\n",
       "      <td>0</td>\n",
       "    </tr>\n",
       "    <tr>\n",
       "      <th>157</th>\n",
       "      <td>1</td>\n",
       "      <td>0</td>\n",
       "      <td>0</td>\n",
       "      <td>0</td>\n",
       "      <td>0</td>\n",
       "      <td>0</td>\n",
       "      <td>0</td>\n",
       "    </tr>\n",
       "    <tr>\n",
       "      <th>158</th>\n",
       "      <td>0</td>\n",
       "      <td>1</td>\n",
       "      <td>1</td>\n",
       "      <td>1</td>\n",
       "      <td>0</td>\n",
       "      <td>0</td>\n",
       "      <td>0</td>\n",
       "    </tr>\n",
       "    <tr>\n",
       "      <th>159</th>\n",
       "      <td>1</td>\n",
       "      <td>1</td>\n",
       "      <td>1</td>\n",
       "      <td>1</td>\n",
       "      <td>1</td>\n",
       "      <td>1</td>\n",
       "      <td>1</td>\n",
       "    </tr>\n",
       "  </tbody>\n",
       "</table>\n",
       "<p>160 rows × 7 columns</p>\n",
       "</div>"
      ],
      "text/plain": [
       "     y  model1  model2  model3  model4  model5  model6\n",
       "0    1       0       0       0       0       0       1\n",
       "1    1       1       1       1       1       0       1\n",
       "2    1       1       1       1       1       1       1\n",
       "3    0       0       0       0       0       0       0\n",
       "4    1       1       1       1       1       1       1\n",
       "..  ..     ...     ...     ...     ...     ...     ...\n",
       "155  0       0       0       0       1       0       0\n",
       "156  0       0       0       0       0       0       0\n",
       "157  1       0       0       0       0       0       0\n",
       "158  0       1       1       1       0       0       0\n",
       "159  1       1       1       1       1       1       1\n",
       "\n",
       "[160 rows x 7 columns]"
      ]
     },
     "execution_count": 209,
     "metadata": {},
     "output_type": "execute_result"
    }
   ],
   "source": [
    "predictions_test"
   ]
  },
  {
   "cell_type": "code",
   "execution_count": 210,
   "metadata": {},
   "outputs": [],
   "source": [
    "# export test result \n",
    "predictions_test.drop(\"y\", axis = 1, inplace = True)\n",
    "result = pd.concat([test, predictions_test], axis = 1)\n",
    "result.rename(columns = {\"model1\": \"Logistic Regression\", \"model3\": \"Random Forest\", \n",
    "                              \"model4\": \"Gradient Boosted Trees\", \"model5\": \"SVM\", \"model6\": \"Neural Net\"}, inplace = True)\n",
    "result.drop(\"model2\", axis = 1, inplace= True)\n"
   ]
  },
  {
   "cell_type": "code",
   "execution_count": 211,
   "metadata": {},
   "outputs": [],
   "source": [
    "result.to_csv(\"test_result.csv\")"
   ]
  },
  {
   "cell_type": "code",
   "execution_count": 212,
   "metadata": {},
   "outputs": [],
   "source": [
    "# generate a nice table showing the accuracy of different models\n",
    "table = PrettyTable()\n",
    "table.field_names = [\"Method\", \"Accuracy\"]\n",
    "table.add_row([\"Logistic Regression\", round(accuracy_score(result[\"y\"], result[\"Logistic Regression\"]),2)])\n",
    "table.add_row([\"Random Forest\", round(accuracy_score(result[\"y\"], result[\"Random Forest\"]),2)])\n",
    "table.add_row([\"Boosted Trees\", round(accuracy_score(result[\"y\"], result[\"Gradient Boosted Trees\"]),2)])\n",
    "table.add_row([\"SVM\", round(accuracy_score(result[\"y\"], result[\"SVM\"]),2)])\n",
    "table.add_row([\"Neural Network\", round(accuracy_score(result[\"y\"], result[\"Neural Net\"]),2)])"
   ]
  },
  {
   "cell_type": "code",
   "execution_count": 213,
   "metadata": {},
   "outputs": [
    {
     "name": "stdout",
     "output_type": "stream",
     "text": [
      "+---------------------+----------+\n",
      "|        Method       | Accuracy |\n",
      "+---------------------+----------+\n",
      "| Logistic Regression |   0.73   |\n",
      "|    Random Forest    |   0.83   |\n",
      "|    Boosted Trees    |   0.8    |\n",
      "|         SVM         |   0.72   |\n",
      "|    Neural Network   |   0.75   |\n",
      "+---------------------+----------+\n"
     ]
    }
   ],
   "source": [
    "print(table)"
   ]
  },
  {
   "cell_type": "code",
   "execution_count": null,
   "metadata": {},
   "outputs": [],
   "source": []
  }
 ],
 "metadata": {
  "kernelspec": {
   "display_name": "Python 3",
   "language": "python",
   "name": "python3"
  }
 },
 "nbformat": 4,
 "nbformat_minor": 4
}
